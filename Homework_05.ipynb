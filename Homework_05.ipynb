{
 "cells": [
  {
   "cell_type": "markdown",
   "metadata": {
    "button": false,
    "new_sheet": false,
    "run_control": {
     "read_only": false
    }
   },
   "source": [
    "<div class='heading'>\n",
    "    <div style='float:left;'><h1>CPSC 4300/6300: Applied Data Science</h1></div>\n",
    "    <img style=\"float: right; padding-right: 10px; width: 65px\" src=\"https://raw.githubusercontent.com/bsethwalker/clemson-cs4300/main/images/clemson_paw.png\"> </div>\n",
    "\n",
    "\n",
    "## Homework 5: Regression Modeling to Forecast Bike Sharing Usage, Continued\n",
    "\n",
    "**Clemson University**<br>\n",
    "**Fall 2021**<br>\n",
    "**Instructor(s):** Nina Hubig <br>\n",
    "\n",
    "\n",
    "---\n",
    "\n"
   ]
  },
  {
   "cell_type": "code",
   "execution_count": 1,
   "metadata": {
    "button": false,
    "new_sheet": false,
    "run_control": {
     "read_only": false
    }
   },
   "outputs": [
    {
     "data": {
      "text/html": [
       "<style>\n",
       "blockquote { background: #AEDE94; }\n",
       "\n",
       "div.heading {\n",
       "margin-bottom: 25px;\n",
       "height: 75px;\n",
       "}\n",
       "\n",
       "h1 { \n",
       "    padding-top: 25px;\n",
       "    padding-bottom: 25px;\n",
       "    text-align: left; \n",
       "    padding-left: 10px;\n",
       "    color: black;\n",
       "}\n",
       "\n",
       "h2 { \n",
       "    padding-top: 10px;\n",
       "    padding-bottom: 10px;\n",
       "    text-align: left; \n",
       "    padding-left: 5px;\n",
       "    background-color: #EEEEEE; \n",
       "    color: black;\n",
       "}\n",
       "\n",
       "div.exercise {\n",
       "    \n",
       "    background: rgba(245, 102, 0, .75);\n",
       "    border-color: #E9967A;\n",
       "    border-left: 5px solid #522D80; \n",
       "    padding: 0.5em;\n",
       "}\n",
       "\n",
       "div.exercise-r {\n",
       "    background-color: #fce8e8;\n",
       "    border-color: #E9967A; \t\n",
       "    border-left: 5px solid #800080; \n",
       "    padding: 0.5em;\n",
       "}\n",
       "\n",
       "span.sub-q {\n",
       "    font-weight: bold;\n",
       "}\n",
       "div.theme {\n",
       "    background-color: #DDDDDD;\n",
       "    border-color: #E9967A; \t\n",
       "    border-left: 5px solid #800080; \n",
       "    padding: 0.5em;\n",
       "    font-size: 18pt;\n",
       "}\n",
       "div.gc { \n",
       "    background-color: #AEDE94;\n",
       "    border-color: #E9967A; \t \n",
       "    border-left: 5px solid #800080; \n",
       "    padding: 0.5em;\n",
       "    font-size: 12pt;\n",
       "}\n",
       "p.q1 { \n",
       "    padding-top: 5px;\n",
       "    padding-bottom: 5px;\n",
       "    text-align: left; \n",
       "    padding-left: 5px;\n",
       "    background-color: #EEEEEE; \n",
       "    color: black;\n",
       "}\n",
       "header {\n",
       "   padding-top: 35px;\n",
       "    padding-bottom: 35px;\n",
       "    text-align: left; \n",
       "    padding-left: 10px;\n",
       "    background-color: #DDDDDD; \n",
       "    color: black;\n",
       "}\n",
       "</style>"
      ],
      "text/plain": [
       "<IPython.core.display.HTML object>"
      ]
     },
     "execution_count": 1,
     "metadata": {},
     "output_type": "execute_result"
    }
   ],
   "source": [
    "\"\"\" RUN THIS CELL TO GET THE RIGHT FORMATTING \"\"\"\n",
    "import requests\n",
    "from IPython.core.display import HTML\n",
    "css_file = 'https://raw.githubusercontent.com/bsethwalker/clemson-cs4300/main/css/cpsc6300.css'\n",
    "styles = requests.get(css_file).text\n",
    "HTML(styles)"
   ]
  },
  {
   "cell_type": "markdown",
   "metadata": {
    "button": false,
    "new_sheet": false,
    "run_control": {
     "read_only": false
    }
   },
   "source": [
    "### INSTRUCTIONS\n",
    "\n",
    "- To submit your assignment follow the instructions given in Canvas.\n",
    "- Restart the kernel and run the whole notebook again before you submit. \n",
    "- As much as possible, try and stick to the hints and functions we import at the top of the homework, as those are the ideas and tools the class supports and is aiming to teach. And if a problem specifies a particular library you're required to use that library, and possibly others from the import list.\n",
    "- Please use .head() when viewing data. Do not submit a notebook that is excessively long because output was not suppressed or otherwise limited. "
   ]
  },
  {
   "cell_type": "markdown",
   "metadata": {
    "button": false,
    "new_sheet": false,
    "run_control": {
     "read_only": false
    }
   },
   "source": [
    "<hr style=\"height:2pt\">"
   ]
  },
  {
   "cell_type": "markdown",
   "metadata": {
    "run_control": {}
   },
   "source": [
    "<img src=\"https://raw.githubusercontent.com/bsethwalker/clemson-cs4300/main/images/BSS.png\">\n",
    "\n",
    "### Overview \n",
    "\n",
    "You are hired by the administrators of the [Capital Bikeshare program](https://www.capitalbikeshare.com) program in Washington D.C., to **help them predict the hourly demand for rental bikes** and **give them suggestions on how to increase their revenue**. Your task is to prepare a short report summarizing your findings and make recommendations.\n",
    "\n",
    "The predicted hourly demand could be used for planning the number of bikes that need to be available in the system at any given hour of the day. It costs the program money if bike stations are full and bikes cannot be returned, or empty and there are no bikes available. You will use multiple linear regression and polynomial regression and will explore ridge and lasso regression to predict bike usage. The goal is to build a regression model that can predict the total number of bike rentals in a given hour of the day, based on all available information given to you. \n",
    "\n",
    "An example of a suggestion to increase revenue might be to offer discounts during certain times of the day either during holidays or non-holidays. Your suggestions will depend on your observations of the seasonality of ridership.\n",
    "\n",
    "The data for this problem were collected from the Capital Bikeshare program over the course of two years (2011 and 2012).\n",
    "\n"
   ]
  },
  {
   "cell_type": "markdown",
   "metadata": {
    "run_control": {}
   },
   "source": [
    "### Use only the libraries below:"
   ]
  },
  {
   "cell_type": "code",
   "execution_count": 73,
   "metadata": {
    "button": false,
    "new_sheet": false,
    "run_control": {
     "read_only": false
    }
   },
   "outputs": [],
   "source": [
    "import numpy as np\n",
    "import pandas as pd\n",
    "import matplotlib\n",
    "import matplotlib.pyplot as plt\n",
    "\n",
    "import statsmodels.api as sm\n",
    "from statsmodels.api import OLS\n",
    "\n",
    "from sklearn.model_selection import train_test_split\n",
    "from sklearn.preprocessing import PolynomialFeatures\n",
    "from sklearn.preprocessing import StandardScaler\n",
    "from sklearn.linear_model import LinearRegression\n",
    "from sklearn.linear_model import Ridge\n",
    "from sklearn.linear_model import RidgeCV\n",
    "from sklearn.linear_model import LassoCV\n",
    "from sklearn.metrics import r2_score\n",
    "\n",
    "from pandas.plotting import scatter_matrix"
   ]
  },
  {
   "cell_type": "markdown",
   "metadata": {
    "run_control": {}
   },
   "source": [
    "### Overview\n",
    "The initial data set is provided in the file `data/BSS_hour_raw.csv`. You will first add features that will help with the analysis and then separate the data into training and test sets. Each row in this file represents the number of rides by registered users and casual users in a given hour of a specific date. There are 12 attributes in total describing besides the number of users the weather if it is a holiday or not etc: \n",
    "\n",
    "\n",
    "- `dteday` (date in the format YYYY-MM-DD, e.g. 2011-01-01)\n",
    "- `season` (1 = winter, 2 = spring, 3 = summer, 4 = fall)\n",
    "- `hour` (0 for 12 midnight, 1 for 1:00am, 23 for 11:00pm)\n",
    "- `weekday` (0 through 6, with 0 denoting Sunday)\n",
    "- `holiday` (1 = the day is a holiday, 0 = otherwise)\n",
    "- `weather`\n",
    "    - 1: Clear, Few clouds, Partly cloudy, Partly cloudy\n",
    "    - 2: Mist + Cloudy, Mist + Broken clouds, Mist + Few clouds, Mist\n",
    "    - 3: Light Snow, Light Rain + Thunderstorm\n",
    "    - 4: Heavy Rain + Thunderstorm + Mist, Snow + Fog \n",
    "- `temp` (temperature in Celsius, normalized)\n",
    "- `atemp` (apparent temperature, or relative outdoor temperature, in Celsius, normalized)\n",
    "- `hum` (relative humidity, normalized)\n",
    "- `windspeed` (wind speed, normalized)\n",
    "- `casual` (number of rides that day made by casual riders, not registered in the system)\n",
    "- `registered` (number of rides that day made by registered riders)"
   ]
  },
  {
   "cell_type": "markdown",
   "metadata": {},
   "source": [
    "---\n",
    "\n",
    "<div class=\"theme\">  Getting Started </div>"
   ]
  },
  {
   "cell_type": "markdown",
   "metadata": {},
   "source": [
    "**NOTE:** This homework assignment is a continuation of Homework 4. \n",
    "\n",
    "Load `BSS_train.csv` and `BSS_test.csv` into dataframes `BSS_train` and `BSS_test`, respectively. Remove the `dteday`, `casual`, and `registered` columns from both the train and the test dataset. "
   ]
  },
  {
   "cell_type": "code",
   "execution_count": 3,
   "metadata": {},
   "outputs": [],
   "source": [
    "# Your code here\n",
    "BSS_train = pd.read_csv(\"BSS_train.csv\")\n",
    "BSS_test = pd.read_csv(\"BSS_test.csv\")\n",
    "Bikes_df_raw = pd.read_csv(\"BSS_hour_raw.csv\")\n"
   ]
  },
  {
   "cell_type": "code",
   "execution_count": 18,
   "metadata": {},
   "outputs": [],
   "source": [
    "BSS_train = BSS_train.drop(['dteday','casual','registered'], axis=1)\n",
    "BSS_test = BSS_test.drop(['dteday','casual','registered'], axis=1)\n",
    "\n"
   ]
  },
  {
   "cell_type": "code",
   "execution_count": 20,
   "metadata": {},
   "outputs": [
    {
     "data": {
      "text/html": [
       "<div>\n",
       "<style scoped>\n",
       "    .dataframe tbody tr th:only-of-type {\n",
       "        vertical-align: middle;\n",
       "    }\n",
       "\n",
       "    .dataframe tbody tr th {\n",
       "        vertical-align: top;\n",
       "    }\n",
       "\n",
       "    .dataframe thead th {\n",
       "        text-align: right;\n",
       "    }\n",
       "</style>\n",
       "<table border=\"1\" class=\"dataframe\">\n",
       "  <thead>\n",
       "    <tr style=\"text-align: right;\">\n",
       "      <th></th>\n",
       "      <th>hour</th>\n",
       "      <th>holiday</th>\n",
       "      <th>year</th>\n",
       "      <th>workingday</th>\n",
       "      <th>temp</th>\n",
       "      <th>atemp</th>\n",
       "      <th>hum</th>\n",
       "      <th>windspeed</th>\n",
       "      <th>counts</th>\n",
       "      <th>spring</th>\n",
       "      <th>...</th>\n",
       "      <th>Dec</th>\n",
       "      <th>Mon</th>\n",
       "      <th>Tue</th>\n",
       "      <th>Wed</th>\n",
       "      <th>Thu</th>\n",
       "      <th>Fri</th>\n",
       "      <th>Sat</th>\n",
       "      <th>Cloudy</th>\n",
       "      <th>Snow</th>\n",
       "      <th>Storm</th>\n",
       "    </tr>\n",
       "  </thead>\n",
       "  <tbody>\n",
       "    <tr>\n",
       "      <th>0</th>\n",
       "      <td>21</td>\n",
       "      <td>0</td>\n",
       "      <td>1</td>\n",
       "      <td>1</td>\n",
       "      <td>0.24</td>\n",
       "      <td>0.2273</td>\n",
       "      <td>0.60</td>\n",
       "      <td>0.2537</td>\n",
       "      <td>63</td>\n",
       "      <td>0</td>\n",
       "      <td>...</td>\n",
       "      <td>1</td>\n",
       "      <td>0</td>\n",
       "      <td>0</td>\n",
       "      <td>0</td>\n",
       "      <td>1</td>\n",
       "      <td>0</td>\n",
       "      <td>0</td>\n",
       "      <td>1</td>\n",
       "      <td>0</td>\n",
       "      <td>0</td>\n",
       "    </tr>\n",
       "    <tr>\n",
       "      <th>1</th>\n",
       "      <td>17</td>\n",
       "      <td>0</td>\n",
       "      <td>0</td>\n",
       "      <td>1</td>\n",
       "      <td>0.62</td>\n",
       "      <td>0.5758</td>\n",
       "      <td>0.83</td>\n",
       "      <td>0.2537</td>\n",
       "      <td>479</td>\n",
       "      <td>0</td>\n",
       "      <td>...</td>\n",
       "      <td>0</td>\n",
       "      <td>0</td>\n",
       "      <td>0</td>\n",
       "      <td>0</td>\n",
       "      <td>1</td>\n",
       "      <td>0</td>\n",
       "      <td>0</td>\n",
       "      <td>0</td>\n",
       "      <td>1</td>\n",
       "      <td>0</td>\n",
       "    </tr>\n",
       "    <tr>\n",
       "      <th>2</th>\n",
       "      <td>9</td>\n",
       "      <td>0</td>\n",
       "      <td>1</td>\n",
       "      <td>1</td>\n",
       "      <td>0.76</td>\n",
       "      <td>0.7273</td>\n",
       "      <td>0.66</td>\n",
       "      <td>0.1642</td>\n",
       "      <td>353</td>\n",
       "      <td>0</td>\n",
       "      <td>...</td>\n",
       "      <td>0</td>\n",
       "      <td>0</td>\n",
       "      <td>0</td>\n",
       "      <td>0</td>\n",
       "      <td>1</td>\n",
       "      <td>0</td>\n",
       "      <td>0</td>\n",
       "      <td>0</td>\n",
       "      <td>0</td>\n",
       "      <td>0</td>\n",
       "    </tr>\n",
       "    <tr>\n",
       "      <th>3</th>\n",
       "      <td>17</td>\n",
       "      <td>0</td>\n",
       "      <td>1</td>\n",
       "      <td>0</td>\n",
       "      <td>0.62</td>\n",
       "      <td>0.6061</td>\n",
       "      <td>0.22</td>\n",
       "      <td>0.2985</td>\n",
       "      <td>411</td>\n",
       "      <td>1</td>\n",
       "      <td>...</td>\n",
       "      <td>0</td>\n",
       "      <td>0</td>\n",
       "      <td>0</td>\n",
       "      <td>0</td>\n",
       "      <td>0</td>\n",
       "      <td>0</td>\n",
       "      <td>0</td>\n",
       "      <td>0</td>\n",
       "      <td>0</td>\n",
       "      <td>0</td>\n",
       "    </tr>\n",
       "    <tr>\n",
       "      <th>4</th>\n",
       "      <td>8</td>\n",
       "      <td>0</td>\n",
       "      <td>1</td>\n",
       "      <td>0</td>\n",
       "      <td>0.18</td>\n",
       "      <td>0.1970</td>\n",
       "      <td>0.40</td>\n",
       "      <td>0.1343</td>\n",
       "      <td>70</td>\n",
       "      <td>0</td>\n",
       "      <td>...</td>\n",
       "      <td>0</td>\n",
       "      <td>0</td>\n",
       "      <td>0</td>\n",
       "      <td>0</td>\n",
       "      <td>0</td>\n",
       "      <td>0</td>\n",
       "      <td>0</td>\n",
       "      <td>0</td>\n",
       "      <td>0</td>\n",
       "      <td>0</td>\n",
       "    </tr>\n",
       "  </tbody>\n",
       "</table>\n",
       "<p>5 rows × 32 columns</p>\n",
       "</div>"
      ],
      "text/plain": [
       "   hour  holiday  year  workingday  temp   atemp   hum  windspeed  counts  \\\n",
       "0    21        0     1           1  0.24  0.2273  0.60     0.2537      63   \n",
       "1    17        0     0           1  0.62  0.5758  0.83     0.2537     479   \n",
       "2     9        0     1           1  0.76  0.7273  0.66     0.1642     353   \n",
       "3    17        0     1           0  0.62  0.6061  0.22     0.2985     411   \n",
       "4     8        0     1           0  0.18  0.1970  0.40     0.1343      70   \n",
       "\n",
       "   spring  ...  Dec  Mon  Tue  Wed  Thu  Fri  Sat  Cloudy  Snow  Storm  \n",
       "0       0  ...    1    0    0    0    1    0    0       1     0      0  \n",
       "1       0  ...    0    0    0    0    1    0    0       0     1      0  \n",
       "2       0  ...    0    0    0    0    1    0    0       0     0      0  \n",
       "3       1  ...    0    0    0    0    0    0    0       0     0      0  \n",
       "4       0  ...    0    0    0    0    0    0    0       0     0      0  \n",
       "\n",
       "[5 rows x 32 columns]"
      ]
     },
     "execution_count": 20,
     "metadata": {},
     "output_type": "execute_result"
    }
   ],
   "source": [
    "BSS_train.head()"
   ]
  },
  {
   "cell_type": "code",
   "execution_count": 28,
   "metadata": {},
   "outputs": [
    {
     "data": {
      "text/plain": [
       "0    0.24\n",
       "1    0.62\n",
       "2    0.76\n",
       "3    0.62\n",
       "4    0.18\n",
       "Name: temp, dtype: float64"
      ]
     },
     "execution_count": 28,
     "metadata": {},
     "output_type": "execute_result"
    }
   ],
   "source": [
    "BSS_train['temp'].head()"
   ]
  },
  {
   "cell_type": "markdown",
   "metadata": {
    "button": false,
    "new_sheet": false,
    "run_control": {
     "read_only": false
    }
   },
   "source": [
    "---\n",
    "\n",
    "<div class=\"theme\">  Question 3 - Multiple Linear Regression to Predict Hourly Ridership </div>"
   ]
  },
  {
   "cell_type": "markdown",
   "metadata": {
    "button": false,
    "new_sheet": false,
    "run_control": {
     "read_only": false
    }
   },
   "source": [
    "<div class='exercise'> <b> Question 3.1 </b> </div>"
   ]
  },
  {
   "cell_type": "markdown",
   "metadata": {
    "button": false,
    "new_sheet": false,
    "run_control": {
     "read_only": false
    }
   },
   "source": [
    "Use statsmodels to fit a multiple linear regression model to the training set using all the useable predictors (nothing that `count` was derived of and no interactions or polynomial terms) to predict `counts`, and report its $R^2$ score on the train and test sets.  Call this set of predictors `X_train`. Reminder that you need to add a constant column when using statsmodels in order to fit the intercept."
   ]
  },
  {
   "cell_type": "code",
   "execution_count": 54,
   "metadata": {},
   "outputs": [
    {
     "name": "stdout",
     "output_type": "stream",
     "text": [
      "Parameters: \n",
      " const         -30.407500\n",
      "hour            7.209247\n",
      "holiday       -19.151036\n",
      "year           78.121108\n",
      "workingday     10.948441\n",
      "temp          273.662515\n",
      "atemp         162.535266\n",
      "hum          -202.008009\n",
      "windspeed      19.382705\n",
      "spring         50.075412\n",
      "summer         22.687920\n",
      "fall           70.947417\n",
      "Feb           -10.719770\n",
      "Mar           -11.293840\n",
      "Apr           -44.832594\n",
      "May           -50.160547\n",
      "Jun           -72.204151\n",
      "Jul           -90.896453\n",
      "Aug           -58.324552\n",
      "Sept          -16.168637\n",
      "Oct           -15.883815\n",
      "Nov           -32.723179\n",
      "Dec           -19.208751\n",
      "Mon            -3.333610\n",
      "Tue            -0.007375\n",
      "Wed            -2.205852\n",
      "Thu            -5.569800\n",
      "Fri             2.914043\n",
      "Sat            12.746077\n",
      "Cloudy          6.916314\n",
      "Snow          -26.815450\n",
      "Storm          48.204539\n",
      "dtype: float64\n"
     ]
    }
   ],
   "source": [
    "# multiple linear regression\n",
    "X_train = sm.add_constant(BSS_train.drop('counts', axis=1))\n",
    "X_test = sm.add_constant(BSS_test.drop('counts', axis=1))\n",
    "Y_train = BSS_train['counts'].values.reshape(-1,1)\n",
    "Y_test = BSS_test['counts'].values.reshape(-1,1)\n",
    "\n",
    "model = OLS(Y_train, X_train)\n",
    "results = model.fit()\n",
    "\n",
    "y_hat_train = results.predict()\n",
    "y_hat_test = results.predict(exog=X_test)\n",
    "\n",
    "print('Parameters: \\n', results.params)"
   ]
  },
  {
   "cell_type": "code",
   "execution_count": 62,
   "metadata": {},
   "outputs": [
    {
     "data": {
      "text/html": [
       "<table class=\"simpletable\">\n",
       "<caption>OLS Regression Results</caption>\n",
       "<tr>\n",
       "  <th>Dep. Variable:</th>            <td>y</td>        <th>  R-squared:         </th> <td>   0.412</td> \n",
       "</tr>\n",
       "<tr>\n",
       "  <th>Model:</th>                   <td>OLS</td>       <th>  Adj. R-squared:    </th> <td>   0.410</td> \n",
       "</tr>\n",
       "<tr>\n",
       "  <th>Method:</th>             <td>Least Squares</td>  <th>  F-statistic:       </th> <td>   201.9</td> \n",
       "</tr>\n",
       "<tr>\n",
       "  <th>Date:</th>             <td>Thu, 07 Oct 2021</td> <th>  Prob (F-statistic):</th>  <td>  0.00</td>  \n",
       "</tr>\n",
       "<tr>\n",
       "  <th>Time:</th>                 <td>16:39:53</td>     <th>  Log-Likelihood:    </th> <td> -55215.</td> \n",
       "</tr>\n",
       "<tr>\n",
       "  <th>No. Observations:</th>      <td>  8689</td>      <th>  AIC:               </th> <td>1.105e+05</td>\n",
       "</tr>\n",
       "<tr>\n",
       "  <th>Df Residuals:</th>          <td>  8658</td>      <th>  BIC:               </th> <td>1.107e+05</td>\n",
       "</tr>\n",
       "<tr>\n",
       "  <th>Df Model:</th>              <td>    30</td>      <th>                     </th>     <td> </td>    \n",
       "</tr>\n",
       "<tr>\n",
       "  <th>Covariance Type:</th>      <td>nonrobust</td>    <th>                     </th>     <td> </td>    \n",
       "</tr>\n",
       "</table>\n",
       "<table class=\"simpletable\">\n",
       "<tr>\n",
       "       <td></td>         <th>coef</th>     <th>std err</th>      <th>t</th>      <th>P>|t|</th>  <th>[0.025</th>    <th>0.975]</th>  \n",
       "</tr>\n",
       "<tr>\n",
       "  <th>const</th>      <td>  -30.4075</td> <td>   10.908</td> <td>   -2.788</td> <td> 0.005</td> <td>  -51.789</td> <td>   -9.026</td>\n",
       "</tr>\n",
       "<tr>\n",
       "  <th>hour</th>       <td>    7.2092</td> <td>    0.233</td> <td>   30.975</td> <td> 0.000</td> <td>    6.753</td> <td>    7.665</td>\n",
       "</tr>\n",
       "<tr>\n",
       "  <th>holiday</th>    <td>  -19.1510</td> <td>    8.369</td> <td>   -2.288</td> <td> 0.022</td> <td>  -35.556</td> <td>   -2.746</td>\n",
       "</tr>\n",
       "<tr>\n",
       "  <th>year</th>       <td>   78.1211</td> <td>    3.020</td> <td>   25.864</td> <td> 0.000</td> <td>   72.200</td> <td>   84.042</td>\n",
       "</tr>\n",
       "<tr>\n",
       "  <th>workingday</th> <td>   10.9484</td> <td>    3.512</td> <td>    3.118</td> <td> 0.002</td> <td>    4.065</td> <td>   17.832</td>\n",
       "</tr>\n",
       "<tr>\n",
       "  <th>temp</th>       <td>  273.6625</td> <td>   61.680</td> <td>    4.437</td> <td> 0.000</td> <td>  152.755</td> <td>  394.570</td>\n",
       "</tr>\n",
       "<tr>\n",
       "  <th>atemp</th>      <td>  162.5353</td> <td>   64.909</td> <td>    2.504</td> <td> 0.012</td> <td>   35.298</td> <td>  289.773</td>\n",
       "</tr>\n",
       "<tr>\n",
       "  <th>hum</th>        <td> -202.0080</td> <td>    9.927</td> <td>  -20.349</td> <td> 0.000</td> <td> -221.468</td> <td> -182.548</td>\n",
       "</tr>\n",
       "<tr>\n",
       "  <th>windspeed</th>  <td>   19.3827</td> <td>   13.595</td> <td>    1.426</td> <td> 0.154</td> <td>   -7.268</td> <td>   46.033</td>\n",
       "</tr>\n",
       "<tr>\n",
       "  <th>spring</th>     <td>   50.0754</td> <td>    9.528</td> <td>    5.256</td> <td> 0.000</td> <td>   31.398</td> <td>   68.753</td>\n",
       "</tr>\n",
       "<tr>\n",
       "  <th>summer</th>     <td>   22.6879</td> <td>   11.138</td> <td>    2.037</td> <td> 0.042</td> <td>    0.855</td> <td>   44.521</td>\n",
       "</tr>\n",
       "<tr>\n",
       "  <th>fall</th>       <td>   70.9474</td> <td>    9.448</td> <td>    7.509</td> <td> 0.000</td> <td>   52.426</td> <td>   89.469</td>\n",
       "</tr>\n",
       "<tr>\n",
       "  <th>Feb</th>        <td>  -10.7198</td> <td>    7.590</td> <td>   -1.412</td> <td> 0.158</td> <td>  -25.598</td> <td>    4.158</td>\n",
       "</tr>\n",
       "<tr>\n",
       "  <th>Mar</th>        <td>  -11.2938</td> <td>    8.385</td> <td>   -1.347</td> <td> 0.178</td> <td>  -27.731</td> <td>    5.143</td>\n",
       "</tr>\n",
       "<tr>\n",
       "  <th>Apr</th>        <td>  -44.8326</td> <td>   12.635</td> <td>   -3.548</td> <td> 0.000</td> <td>  -69.600</td> <td>  -20.065</td>\n",
       "</tr>\n",
       "<tr>\n",
       "  <th>May</th>        <td>  -50.1605</td> <td>   13.493</td> <td>   -3.718</td> <td> 0.000</td> <td>  -76.609</td> <td>  -23.712</td>\n",
       "</tr>\n",
       "<tr>\n",
       "  <th>Jun</th>        <td>  -72.2042</td> <td>   13.700</td> <td>   -5.271</td> <td> 0.000</td> <td>  -99.058</td> <td>  -45.350</td>\n",
       "</tr>\n",
       "<tr>\n",
       "  <th>Jul</th>        <td>  -90.8965</td> <td>   15.387</td> <td>   -5.907</td> <td> 0.000</td> <td> -121.058</td> <td>  -60.735</td>\n",
       "</tr>\n",
       "<tr>\n",
       "  <th>Aug</th>        <td>  -58.3246</td> <td>   15.061</td> <td>   -3.873</td> <td> 0.000</td> <td>  -87.847</td> <td>  -28.802</td>\n",
       "</tr>\n",
       "<tr>\n",
       "  <th>Sept</th>       <td>  -16.1686</td> <td>   13.432</td> <td>   -1.204</td> <td> 0.229</td> <td>  -42.499</td> <td>   10.162</td>\n",
       "</tr>\n",
       "<tr>\n",
       "  <th>Oct</th>        <td>  -15.8838</td> <td>   12.484</td> <td>   -1.272</td> <td> 0.203</td> <td>  -40.356</td> <td>    8.588</td>\n",
       "</tr>\n",
       "<tr>\n",
       "  <th>Nov</th>        <td>  -32.7232</td> <td>   12.049</td> <td>   -2.716</td> <td> 0.007</td> <td>  -56.342</td> <td>   -9.104</td>\n",
       "</tr>\n",
       "<tr>\n",
       "  <th>Dec</th>        <td>  -19.2088</td> <td>    9.560</td> <td>   -2.009</td> <td> 0.045</td> <td>  -37.949</td> <td>   -0.469</td>\n",
       "</tr>\n",
       "<tr>\n",
       "  <th>Mon</th>        <td>   -3.3336</td> <td>    3.756</td> <td>   -0.888</td> <td> 0.375</td> <td>  -10.697</td> <td>    4.029</td>\n",
       "</tr>\n",
       "<tr>\n",
       "  <th>Tue</th>        <td>   -0.0074</td> <td>    4.105</td> <td>   -0.002</td> <td> 0.999</td> <td>   -8.055</td> <td>    8.040</td>\n",
       "</tr>\n",
       "<tr>\n",
       "  <th>Wed</th>        <td>   -2.2059</td> <td>    4.082</td> <td>   -0.540</td> <td> 0.589</td> <td>  -10.207</td> <td>    5.795</td>\n",
       "</tr>\n",
       "<tr>\n",
       "  <th>Thu</th>        <td>   -5.5698</td> <td>    4.013</td> <td>   -1.388</td> <td> 0.165</td> <td>  -13.436</td> <td>    2.297</td>\n",
       "</tr>\n",
       "<tr>\n",
       "  <th>Fri</th>        <td>    2.9140</td> <td>    4.015</td> <td>    0.726</td> <td> 0.468</td> <td>   -4.956</td> <td>   10.784</td>\n",
       "</tr>\n",
       "<tr>\n",
       "  <th>Sat</th>        <td>   12.7461</td> <td>    5.587</td> <td>    2.281</td> <td> 0.023</td> <td>    1.793</td> <td>   23.699</td>\n",
       "</tr>\n",
       "<tr>\n",
       "  <th>Cloudy</th>     <td>    6.9163</td> <td>    3.676</td> <td>    1.882</td> <td> 0.060</td> <td>   -0.289</td> <td>   14.122</td>\n",
       "</tr>\n",
       "<tr>\n",
       "  <th>Snow</th>       <td>  -26.8155</td> <td>    6.094</td> <td>   -4.401</td> <td> 0.000</td> <td>  -38.760</td> <td>  -14.871</td>\n",
       "</tr>\n",
       "<tr>\n",
       "  <th>Storm</th>      <td>   48.2045</td> <td>   98.839</td> <td>    0.488</td> <td> 0.626</td> <td> -145.543</td> <td>  241.952</td>\n",
       "</tr>\n",
       "</table>\n",
       "<table class=\"simpletable\">\n",
       "<tr>\n",
       "  <th>Omnibus:</th>       <td>1691.839</td> <th>  Durbin-Watson:     </th> <td>   1.982</td>\n",
       "</tr>\n",
       "<tr>\n",
       "  <th>Prob(Omnibus):</th>  <td> 0.000</td>  <th>  Jarque-Bera (JB):  </th> <td>3250.657</td>\n",
       "</tr>\n",
       "<tr>\n",
       "  <th>Skew:</th>           <td> 1.191</td>  <th>  Prob(JB):          </th> <td>    0.00</td>\n",
       "</tr>\n",
       "<tr>\n",
       "  <th>Kurtosis:</th>       <td> 4.818</td>  <th>  Cond. No.          </th> <td>1.17e+16</td>\n",
       "</tr>\n",
       "</table><br/><br/>Notes:<br/>[1] Standard Errors assume that the covariance matrix of the errors is correctly specified.<br/>[2] The smallest eigenvalue is 1.18e-26. This might indicate that there are<br/>strong multicollinearity problems or that the design matrix is singular."
      ],
      "text/plain": [
       "<class 'statsmodels.iolib.summary.Summary'>\n",
       "\"\"\"\n",
       "                            OLS Regression Results                            \n",
       "==============================================================================\n",
       "Dep. Variable:                      y   R-squared:                       0.412\n",
       "Model:                            OLS   Adj. R-squared:                  0.410\n",
       "Method:                 Least Squares   F-statistic:                     201.9\n",
       "Date:                Thu, 07 Oct 2021   Prob (F-statistic):               0.00\n",
       "Time:                        16:39:53   Log-Likelihood:                -55215.\n",
       "No. Observations:                8689   AIC:                         1.105e+05\n",
       "Df Residuals:                    8658   BIC:                         1.107e+05\n",
       "Df Model:                          30                                         \n",
       "Covariance Type:            nonrobust                                         \n",
       "==============================================================================\n",
       "                 coef    std err          t      P>|t|      [0.025      0.975]\n",
       "------------------------------------------------------------------------------\n",
       "const        -30.4075     10.908     -2.788      0.005     -51.789      -9.026\n",
       "hour           7.2092      0.233     30.975      0.000       6.753       7.665\n",
       "holiday      -19.1510      8.369     -2.288      0.022     -35.556      -2.746\n",
       "year          78.1211      3.020     25.864      0.000      72.200      84.042\n",
       "workingday    10.9484      3.512      3.118      0.002       4.065      17.832\n",
       "temp         273.6625     61.680      4.437      0.000     152.755     394.570\n",
       "atemp        162.5353     64.909      2.504      0.012      35.298     289.773\n",
       "hum         -202.0080      9.927    -20.349      0.000    -221.468    -182.548\n",
       "windspeed     19.3827     13.595      1.426      0.154      -7.268      46.033\n",
       "spring        50.0754      9.528      5.256      0.000      31.398      68.753\n",
       "summer        22.6879     11.138      2.037      0.042       0.855      44.521\n",
       "fall          70.9474      9.448      7.509      0.000      52.426      89.469\n",
       "Feb          -10.7198      7.590     -1.412      0.158     -25.598       4.158\n",
       "Mar          -11.2938      8.385     -1.347      0.178     -27.731       5.143\n",
       "Apr          -44.8326     12.635     -3.548      0.000     -69.600     -20.065\n",
       "May          -50.1605     13.493     -3.718      0.000     -76.609     -23.712\n",
       "Jun          -72.2042     13.700     -5.271      0.000     -99.058     -45.350\n",
       "Jul          -90.8965     15.387     -5.907      0.000    -121.058     -60.735\n",
       "Aug          -58.3246     15.061     -3.873      0.000     -87.847     -28.802\n",
       "Sept         -16.1686     13.432     -1.204      0.229     -42.499      10.162\n",
       "Oct          -15.8838     12.484     -1.272      0.203     -40.356       8.588\n",
       "Nov          -32.7232     12.049     -2.716      0.007     -56.342      -9.104\n",
       "Dec          -19.2088      9.560     -2.009      0.045     -37.949      -0.469\n",
       "Mon           -3.3336      3.756     -0.888      0.375     -10.697       4.029\n",
       "Tue           -0.0074      4.105     -0.002      0.999      -8.055       8.040\n",
       "Wed           -2.2059      4.082     -0.540      0.589     -10.207       5.795\n",
       "Thu           -5.5698      4.013     -1.388      0.165     -13.436       2.297\n",
       "Fri            2.9140      4.015      0.726      0.468      -4.956      10.784\n",
       "Sat           12.7461      5.587      2.281      0.023       1.793      23.699\n",
       "Cloudy         6.9163      3.676      1.882      0.060      -0.289      14.122\n",
       "Snow         -26.8155      6.094     -4.401      0.000     -38.760     -14.871\n",
       "Storm         48.2045     98.839      0.488      0.626    -145.543     241.952\n",
       "==============================================================================\n",
       "Omnibus:                     1691.839   Durbin-Watson:                   1.982\n",
       "Prob(Omnibus):                  0.000   Jarque-Bera (JB):             3250.657\n",
       "Skew:                           1.191   Prob(JB):                         0.00\n",
       "Kurtosis:                       4.818   Cond. No.                     1.17e+16\n",
       "==============================================================================\n",
       "\n",
       "Notes:\n",
       "[1] Standard Errors assume that the covariance matrix of the errors is correctly specified.\n",
       "[2] The smallest eigenvalue is 1.18e-26. This might indicate that there are\n",
       "strong multicollinearity problems or that the design matrix is singular.\n",
       "\"\"\""
      ]
     },
     "execution_count": 62,
     "metadata": {},
     "output_type": "execute_result"
    }
   ],
   "source": [
    "results.summary()"
   ]
  },
  {
   "cell_type": "code",
   "execution_count": 114,
   "metadata": {},
   "outputs": [
    {
     "name": "stdout",
     "output_type": "stream",
     "text": [
      "train r2 = 0.4116\n",
      "test r2 = 0.4007\n"
     ]
    }
   ],
   "source": [
    "print('train r2 = {:.4}'.format( r2_score(BSS_train['counts'], y_hat_train)))\n",
    "print('test r2 = {:.4}'.format(r2_score(BSS_test['counts'], y_hat_test)))"
   ]
  },
  {
   "cell_type": "markdown",
   "metadata": {
    "button": false,
    "new_sheet": false,
    "run_control": {
     "read_only": false
    }
   },
   "source": [
    "<div class='exercise'> <b> Question 3.2 </b> </div>"
   ]
  },
  {
   "cell_type": "markdown",
   "metadata": {
    "button": false,
    "new_sheet": false,
    "run_control": {
     "read_only": false
    }
   },
   "source": [
    "Examine the estimated coefficients and report which ones are statistically significant at a significance level of 5% (p-value < 0.05). "
   ]
  },
  {
   "cell_type": "code",
   "execution_count": 116,
   "metadata": {},
   "outputs": [
    {
     "data": {
      "text/plain": [
       "hour          6.967036e-200\n",
       "year          3.862196e-142\n",
       "workingday     1.828978e-03\n",
       "temp           9.243128e-06\n",
       "atemp          1.229662e-02\n",
       "spring         1.510519e-07\n",
       "summer         4.168321e-02\n",
       "fall           6.554799e-14\n",
       "Sat            2.255964e-02\n",
       "dtype: float64"
      ]
     },
     "execution_count": 116,
     "metadata": {},
     "output_type": "execute_result"
    }
   ],
   "source": [
    "# Your code here\n",
    "results.pvalues[((results.pvalues < 0.05) & (results.params > 0))]"
   ]
  },
  {
   "cell_type": "code",
   "execution_count": 115,
   "metadata": {},
   "outputs": [
    {
     "data": {
      "text/plain": [
       "const      5.319401e-03\n",
       "holiday    2.214061e-02\n",
       "hum        5.926590e-90\n",
       "Apr        3.897799e-04\n",
       "May        2.023805e-04\n",
       "Jun        1.392848e-07\n",
       "Jul        3.606677e-09\n",
       "Aug        1.084419e-04\n",
       "Nov        6.623427e-03\n",
       "Dec        4.454012e-02\n",
       "Snow       1.092443e-05\n",
       "dtype: float64"
      ]
     },
     "execution_count": 115,
     "metadata": {},
     "output_type": "execute_result"
    }
   ],
   "source": [
    "results.pvalues[((results.pvalues < 0.05) & (results.params < 0))]"
   ]
  },
  {
   "cell_type": "markdown",
   "metadata": {
    "button": false,
    "new_sheet": false,
    "run_control": {
     "read_only": false
    }
   },
   "source": [
    "<div class='exercise'> <b> Question 3.3 </b> </div>"
   ]
  },
  {
   "cell_type": "markdown",
   "metadata": {
    "button": false,
    "new_sheet": false,
    "run_control": {
     "read_only": false
    }
   },
   "source": [
    "You should see some strange estimates for the predictors representing months.  Carefully interpret the `July` coefficient, and explain why this result is likely occurring (be as specific as possible). "
   ]
  },
  {
   "cell_type": "markdown",
   "metadata": {},
   "source": [
    "*Your answer here*\n",
    "\n",
    "\n",
    "It implies negative correlation and it's relation is statistically insignificant. Here the independent variable might increases, the dependent variable might tends to decrease."
   ]
  },
  {
   "cell_type": "markdown",
   "metadata": {
    "button": false,
    "new_sheet": false,
    "run_control": {
     "read_only": false
    }
   },
   "source": [
    "<div class='exercise'> <b> Question 3.4 </b> </div>"
   ]
  },
  {
   "cell_type": "markdown",
   "metadata": {
    "button": false,
    "new_sheet": false,
    "run_control": {
     "read_only": false
    }
   },
   "source": [
    "To diagnose the model, make two plots: first a histogram of the residuals, and second a plot of the residuals of the fitted model ${e} = y - \\hat{y}$ as a function of the predicted value $\\hat{y}$. Draw a horizontal line denoting the zero residual value on the Y-axis. What do the plots reveal about the OLS assumptions (linearity, constant variance, and normality)?"
   ]
  },
  {
   "cell_type": "code",
   "execution_count": 78,
   "metadata": {},
   "outputs": [
    {
     "data": {
      "image/png": "[encoded data removed]",
      "text/plain": [
       "<Figure size 1080x360 with 2 Axes>"
      ]
     },
     "metadata": {
      "needs_background": "light"
     },
     "output_type": "display_data"
    }
   ],
   "source": [
    "# Your code here\n",
    "fig, axes = plt.subplots(1,2,figsize=(15,5))\n",
    "\n",
    "axes[0].set_title('Plot of Residuals')\n",
    "axes[0].scatter(y_hat_train, y_hat_train - Y_train[:,0], alpha=0.1)\n",
    "axes[0].axhline(0, c='black', lw=2)\n",
    "\n",
    "axes[1].set_title('Histogram of Residual Magnitudes')\n",
    "axes[1].hist(y_hat_train - Y_train[:,0], alpha=0.8)\n",
    "axes[1].axhline(0, c='black', lw=2)\n",
    "plt.show()"
   ]
  },
  {
   "cell_type": "markdown",
   "metadata": {},
   "source": [
    "*Your answer here*\n",
    "\n",
    "As y-hat increases, the variance of the residuals also increases. There is also a pattern to the residuals, suggesting more than linear behavior needs modeling. Hence, linear regression is a bad fit for this data\n"
   ]
  },
  {
   "cell_type": "markdown",
   "metadata": {
    "button": false,
    "new_sheet": false,
    "run_control": {
     "read_only": false
    }
   },
   "source": [
    "<div class='exercise'> <b> Question 3.5 </b> </div>"
   ]
  },
  {
   "cell_type": "markdown",
   "metadata": {
    "button": false,
    "new_sheet": false,
    "run_control": {
     "read_only": false
    }
   },
   "source": [
    "Perhaps we can do better via a model with polynomial terms. Build a dataset `X_train_poly` from your `X_train` data from question 3.1 with added $x^2$ terms for `temp`, `hour`, and `humidity`. Are these polynomial terms important? How does predicted ridership change as each of `temp`, `hour`, and `humidity` increase?"
   ]
  },
  {
   "cell_type": "code",
   "execution_count": 117,
   "metadata": {},
   "outputs": [
    {
     "data": {
      "text/plain": [
       "Index(['const', 'hour', 'holiday', 'year', 'workingday', 'temp', 'atemp',\n",
       "       'hum', 'windspeed', 'spring', 'summer', 'fall', 'Feb', 'Mar', 'Apr',\n",
       "       'May', 'Jun', 'Jul', 'Aug', 'Sept', 'Oct', 'Nov', 'Dec', 'Mon', 'Tue',\n",
       "       'Wed', 'Thu', 'Fri', 'Sat', 'Cloudy', 'Snow', 'Storm'],\n",
       "      dtype='object')"
      ]
     },
     "execution_count": 117,
     "metadata": {},
     "output_type": "execute_result"
    }
   ],
   "source": [
    "X_train_poly = X_train.copy()\n",
    "X_train_poly['hour2'] = X_train_poly['hour']**2\n",
    "X_train_poly['temp'] = X_train_poly['temp']**2\n",
    "X_train_poly['hum2'] = X_train_poly['hum']**2\n",
    "X_train_poly.head()\n",
    "x = sm.add_constant(X_train_poly)\n",
    "poly_model = OLS(endog = Y_train, exog = x, hasconst = True).fit()\n",
    "poly_model_prediction = poly_model.predict(X_train_poly)\n",
    "X_train.columns"
   ]
  },
  {
   "cell_type": "code",
   "execution_count": 118,
   "metadata": {},
   "outputs": [
    {
     "name": "stdout",
     "output_type": "stream",
     "text": [
      "<class 'pandas.core.series.Series'>\n"
     ]
    },
    {
     "data": {
      "image/png": "[encoded data removed]",
      "text/plain": [
       "<Figure size 1080x1080 with 3 Axes>"
      ]
     },
     "metadata": {
      "needs_background": "light"
     },
     "output_type": "display_data"
    }
   ],
   "source": [
    "cor_columns = ['hour', 'temp', 'hum']\n",
    "\n",
    "fig, ax = plt.subplots(3, figsize = (15,15))\n",
    "title_array = ['Riders vs Hours', 'Riders vs Temp', 'Riders vs Humidity']\n",
    "print(type(X_train_poly['hour']))\n",
    "for i in range(len(cor_columns)):\n",
    "    new_db = X_train_poly\n",
    "    new_db['count'] = poly_model_prediction\n",
    "    new_db = new_db.groupby(cor_columns[i]).mean().reset_index()\n",
    "    \n",
    "    rects1 = ax[i].scatter(new_db[cor_columns[i]], new_db['count'])\n",
    "    \n",
    "    ax[i].set_xlabel(cor_columns[i])\n",
    "    ax[i].set_ylabel('Predicted riders')\n",
    "    ax[i].set_title(title_array[i])\n",
    "    \n",
    "fig.tight_layout()\n",
    "plt.show()"
   ]
  },
  {
   "cell_type": "markdown",
   "metadata": {},
   "source": [
    "*Your answer here*\n",
    "\n",
    "From the graphs above, the ridership in a day and temperatur show a significant positive or nonlinear impact on bicycling, while Humidity has a moderate negative impact on ridership."
   ]
  },
  {
   "cell_type": "markdown",
   "metadata": {
    "button": false,
    "new_sheet": false,
    "run_control": {
     "read_only": false
    }
   },
   "source": [
    "<div class='exercise'> <b> Question 3.6 </b> </div>"
   ]
  },
  {
   "cell_type": "markdown",
   "metadata": {
    "button": false,
    "new_sheet": false,
    "run_control": {
     "read_only": false
    }
   },
   "source": [
    "You should have received a warning regarding the presence of _multicolinearity_ in the model in 3.1.  Create a new dataset `X_train_drop` by dropping the following predictors from `X_train`:  `workingday` `atemp` `spring` `summer` and `fall` and fit a multiple linear regression model to the variables the remain.  Are the estimates more sensible in this model?  And explain in your own words why multicolinearity can lead to erroneous coefficient values."
   ]
  },
  {
   "cell_type": "code",
   "execution_count": 87,
   "metadata": {
    "button": false,
    "new_sheet": false,
    "run_control": {
     "read_only": false
    }
   },
   "outputs": [
    {
     "data": {
      "text/html": [
       "<table class=\"simpletable\">\n",
       "<caption>OLS Regression Results</caption>\n",
       "<tr>\n",
       "  <th>Dep. Variable:</th>            <td>y</td>        <th>  R-squared:         </th> <td>   0.407</td> \n",
       "</tr>\n",
       "<tr>\n",
       "  <th>Model:</th>                   <td>OLS</td>       <th>  Adj. R-squared:    </th> <td>   0.405</td> \n",
       "</tr>\n",
       "<tr>\n",
       "  <th>Method:</th>             <td>Least Squares</td>  <th>  F-statistic:       </th> <td>   220.0</td> \n",
       "</tr>\n",
       "<tr>\n",
       "  <th>Date:</th>             <td>Fri, 08 Oct 2021</td> <th>  Prob (F-statistic):</th>  <td>  0.00</td>  \n",
       "</tr>\n",
       "<tr>\n",
       "  <th>Time:</th>                 <td>19:37:06</td>     <th>  Log-Likelihood:    </th> <td> -55250.</td> \n",
       "</tr>\n",
       "<tr>\n",
       "  <th>No. Observations:</th>      <td>  8689</td>      <th>  AIC:               </th> <td>1.106e+05</td>\n",
       "</tr>\n",
       "<tr>\n",
       "  <th>Df Residuals:</th>          <td>  8661</td>      <th>  BIC:               </th> <td>1.108e+05</td>\n",
       "</tr>\n",
       "<tr>\n",
       "  <th>Df Model:</th>              <td>    27</td>      <th>                     </th>     <td> </td>    \n",
       "</tr>\n",
       "<tr>\n",
       "  <th>Covariance Type:</th>      <td>nonrobust</td>    <th>                     </th>     <td> </td>    \n",
       "</tr>\n",
       "</table>\n",
       "<table class=\"simpletable\">\n",
       "<tr>\n",
       "      <td></td>         <th>coef</th>     <th>std err</th>      <th>t</th>      <th>P>|t|</th>  <th>[0.025</th>    <th>0.975]</th>  \n",
       "</tr>\n",
       "<tr>\n",
       "  <th>const</th>     <td>  -26.0042</td> <td>   10.757</td> <td>   -2.417</td> <td> 0.016</td> <td>  -47.091</td> <td>   -4.917</td>\n",
       "</tr>\n",
       "<tr>\n",
       "  <th>hour</th>      <td>    7.2029</td> <td>    0.234</td> <td>   30.830</td> <td> 0.000</td> <td>    6.745</td> <td>    7.661</td>\n",
       "</tr>\n",
       "<tr>\n",
       "  <th>holiday</th>   <td>  -37.1695</td> <td>    9.377</td> <td>   -3.964</td> <td> 0.000</td> <td>  -55.550</td> <td>  -18.789</td>\n",
       "</tr>\n",
       "<tr>\n",
       "  <th>year</th>      <td>   77.6699</td> <td>    3.031</td> <td>   25.624</td> <td> 0.000</td> <td>   71.728</td> <td>   83.612</td>\n",
       "</tr>\n",
       "<tr>\n",
       "  <th>temp</th>      <td>  430.2041</td> <td>   16.925</td> <td>   25.418</td> <td> 0.000</td> <td>  397.027</td> <td>  463.381</td>\n",
       "</tr>\n",
       "<tr>\n",
       "  <th>hum</th>       <td> -199.2249</td> <td>    9.931</td> <td>  -20.060</td> <td> 0.000</td> <td> -218.693</td> <td> -179.757</td>\n",
       "</tr>\n",
       "<tr>\n",
       "  <th>windspeed</th> <td>    3.0755</td> <td>   13.147</td> <td>    0.234</td> <td> 0.815</td> <td>  -22.696</td> <td>   28.847</td>\n",
       "</tr>\n",
       "<tr>\n",
       "  <th>Feb</th>       <td>  -10.6710</td> <td>    7.613</td> <td>   -1.402</td> <td> 0.161</td> <td>  -25.594</td> <td>    4.252</td>\n",
       "</tr>\n",
       "<tr>\n",
       "  <th>Mar</th>       <td>   -8.8311</td> <td>    8.277</td> <td>   -1.067</td> <td> 0.286</td> <td>  -25.055</td> <td>    7.393</td>\n",
       "</tr>\n",
       "<tr>\n",
       "  <th>Apr</th>       <td>  -34.8773</td> <td>   11.605</td> <td>   -3.005</td> <td> 0.003</td> <td>  -57.625</td> <td>  -12.129</td>\n",
       "</tr>\n",
       "<tr>\n",
       "  <th>May</th>       <td>  -43.4220</td> <td>   12.643</td> <td>   -3.434</td> <td> 0.001</td> <td>  -68.206</td> <td>  -18.638</td>\n",
       "</tr>\n",
       "<tr>\n",
       "  <th>Jun</th>       <td>  -63.2655</td> <td>   11.993</td> <td>   -5.275</td> <td> 0.000</td> <td>  -86.776</td> <td>  -39.756</td>\n",
       "</tr>\n",
       "<tr>\n",
       "  <th>Jul</th>       <td>  -74.8504</td> <td>   11.578</td> <td>   -6.465</td> <td> 0.000</td> <td>  -97.546</td> <td>  -52.155</td>\n",
       "</tr>\n",
       "<tr>\n",
       "  <th>Aug</th>       <td>  -43.1533</td> <td>   11.036</td> <td>   -3.910</td> <td> 0.000</td> <td>  -64.786</td> <td>  -21.520</td>\n",
       "</tr>\n",
       "<tr>\n",
       "  <th>Sept</th>      <td>   14.2565</td> <td>   10.050</td> <td>    1.418</td> <td> 0.156</td> <td>   -5.445</td> <td>   33.958</td>\n",
       "</tr>\n",
       "<tr>\n",
       "  <th>Oct</th>       <td>   52.9882</td> <td>    8.677</td> <td>    6.107</td> <td> 0.000</td> <td>   35.980</td> <td>   69.996</td>\n",
       "</tr>\n",
       "<tr>\n",
       "  <th>Nov</th>       <td>   37.7815</td> <td>    7.785</td> <td>    4.853</td> <td> 0.000</td> <td>   22.520</td> <td>   53.043</td>\n",
       "</tr>\n",
       "<tr>\n",
       "  <th>Dec</th>       <td>   25.9209</td> <td>    7.571</td> <td>    3.423</td> <td> 0.001</td> <td>   11.079</td> <td>   40.763</td>\n",
       "</tr>\n",
       "<tr>\n",
       "  <th>spring</th>    <td>   39.3742</td> <td>    7.777</td> <td>    5.063</td> <td> 0.000</td> <td>   24.130</td> <td>   54.618</td>\n",
       "</tr>\n",
       "<tr>\n",
       "  <th>Mon</th>       <td>    9.0752</td> <td>    5.795</td> <td>    1.566</td> <td> 0.117</td> <td>   -2.283</td> <td>   20.434</td>\n",
       "</tr>\n",
       "<tr>\n",
       "  <th>Tue</th>       <td>   11.6160</td> <td>    5.697</td> <td>    2.039</td> <td> 0.041</td> <td>    0.448</td> <td>   22.784</td>\n",
       "</tr>\n",
       "<tr>\n",
       "  <th>Wed</th>       <td>    8.2531</td> <td>    5.668</td> <td>    1.456</td> <td> 0.145</td> <td>   -2.858</td> <td>   19.364</td>\n",
       "</tr>\n",
       "<tr>\n",
       "  <th>Thu</th>       <td>    5.7258</td> <td>    5.633</td> <td>    1.016</td> <td> 0.309</td> <td>   -5.317</td> <td>   16.769</td>\n",
       "</tr>\n",
       "<tr>\n",
       "  <th>Fri</th>       <td>   13.3911</td> <td>    5.632</td> <td>    2.378</td> <td> 0.017</td> <td>    2.352</td> <td>   24.431</td>\n",
       "</tr>\n",
       "<tr>\n",
       "  <th>Sat</th>       <td>   11.9456</td> <td>    5.607</td> <td>    2.131</td> <td> 0.033</td> <td>    0.955</td> <td>   22.936</td>\n",
       "</tr>\n",
       "<tr>\n",
       "  <th>Cloudy</th>    <td>    6.6667</td> <td>    3.688</td> <td>    1.808</td> <td> 0.071</td> <td>   -0.562</td> <td>   13.896</td>\n",
       "</tr>\n",
       "<tr>\n",
       "  <th>Snow</th>      <td>  -28.1551</td> <td>    6.105</td> <td>   -4.612</td> <td> 0.000</td> <td>  -40.122</td> <td>  -16.188</td>\n",
       "</tr>\n",
       "<tr>\n",
       "  <th>Storm</th>     <td>   45.4112</td> <td>   99.207</td> <td>    0.458</td> <td> 0.647</td> <td> -149.058</td> <td>  239.881</td>\n",
       "</tr>\n",
       "</table>\n",
       "<table class=\"simpletable\">\n",
       "<tr>\n",
       "  <th>Omnibus:</th>       <td>1707.399</td> <th>  Durbin-Watson:     </th> <td>   1.977</td>\n",
       "</tr>\n",
       "<tr>\n",
       "  <th>Prob(Omnibus):</th>  <td> 0.000</td>  <th>  Jarque-Bera (JB):  </th> <td>3290.114</td>\n",
       "</tr>\n",
       "<tr>\n",
       "  <th>Skew:</th>           <td> 1.200</td>  <th>  Prob(JB):          </th> <td>    0.00</td>\n",
       "</tr>\n",
       "<tr>\n",
       "  <th>Kurtosis:</th>       <td> 4.824</td>  <th>  Cond. No.          </th> <td>    898.</td>\n",
       "</tr>\n",
       "</table><br/><br/>Notes:<br/>[1] Standard Errors assume that the covariance matrix of the errors is correctly specified."
      ],
      "text/plain": [
       "<class 'statsmodels.iolib.summary.Summary'>\n",
       "\"\"\"\n",
       "                            OLS Regression Results                            \n",
       "==============================================================================\n",
       "Dep. Variable:                      y   R-squared:                       0.407\n",
       "Model:                            OLS   Adj. R-squared:                  0.405\n",
       "Method:                 Least Squares   F-statistic:                     220.0\n",
       "Date:                Fri, 08 Oct 2021   Prob (F-statistic):               0.00\n",
       "Time:                        19:37:06   Log-Likelihood:                -55250.\n",
       "No. Observations:                8689   AIC:                         1.106e+05\n",
       "Df Residuals:                    8661   BIC:                         1.108e+05\n",
       "Df Model:                          27                                         \n",
       "Covariance Type:            nonrobust                                         \n",
       "==============================================================================\n",
       "                 coef    std err          t      P>|t|      [0.025      0.975]\n",
       "------------------------------------------------------------------------------\n",
       "const        -26.0042     10.757     -2.417      0.016     -47.091      -4.917\n",
       "hour           7.2029      0.234     30.830      0.000       6.745       7.661\n",
       "holiday      -37.1695      9.377     -3.964      0.000     -55.550     -18.789\n",
       "year          77.6699      3.031     25.624      0.000      71.728      83.612\n",
       "temp         430.2041     16.925     25.418      0.000     397.027     463.381\n",
       "hum         -199.2249      9.931    -20.060      0.000    -218.693    -179.757\n",
       "windspeed      3.0755     13.147      0.234      0.815     -22.696      28.847\n",
       "Feb          -10.6710      7.613     -1.402      0.161     -25.594       4.252\n",
       "Mar           -8.8311      8.277     -1.067      0.286     -25.055       7.393\n",
       "Apr          -34.8773     11.605     -3.005      0.003     -57.625     -12.129\n",
       "May          -43.4220     12.643     -3.434      0.001     -68.206     -18.638\n",
       "Jun          -63.2655     11.993     -5.275      0.000     -86.776     -39.756\n",
       "Jul          -74.8504     11.578     -6.465      0.000     -97.546     -52.155\n",
       "Aug          -43.1533     11.036     -3.910      0.000     -64.786     -21.520\n",
       "Sept          14.2565     10.050      1.418      0.156      -5.445      33.958\n",
       "Oct           52.9882      8.677      6.107      0.000      35.980      69.996\n",
       "Nov           37.7815      7.785      4.853      0.000      22.520      53.043\n",
       "Dec           25.9209      7.571      3.423      0.001      11.079      40.763\n",
       "spring        39.3742      7.777      5.063      0.000      24.130      54.618\n",
       "Mon            9.0752      5.795      1.566      0.117      -2.283      20.434\n",
       "Tue           11.6160      5.697      2.039      0.041       0.448      22.784\n",
       "Wed            8.2531      5.668      1.456      0.145      -2.858      19.364\n",
       "Thu            5.7258      5.633      1.016      0.309      -5.317      16.769\n",
       "Fri           13.3911      5.632      2.378      0.017       2.352      24.431\n",
       "Sat           11.9456      5.607      2.131      0.033       0.955      22.936\n",
       "Cloudy         6.6667      3.688      1.808      0.071      -0.562      13.896\n",
       "Snow         -28.1551      6.105     -4.612      0.000     -40.122     -16.188\n",
       "Storm         45.4112     99.207      0.458      0.647    -149.058     239.881\n",
       "==============================================================================\n",
       "Omnibus:                     1707.399   Durbin-Watson:                   1.977\n",
       "Prob(Omnibus):                  0.000   Jarque-Bera (JB):             3290.114\n",
       "Skew:                           1.200   Prob(JB):                         0.00\n",
       "Kurtosis:                       4.824   Cond. No.                         898.\n",
       "==============================================================================\n",
       "\n",
       "Notes:\n",
       "[1] Standard Errors assume that the covariance matrix of the errors is correctly specified.\n",
       "\"\"\""
      ]
     },
     "execution_count": 87,
     "metadata": {},
     "output_type": "execute_result"
    }
   ],
   "source": [
    "# Your code here\n",
    "X_train_drop=X_train[['const','hour','holiday','year','temp','hum','windspeed','Feb','Mar', 'Apr',\n",
    "                      'May','Jun','Jul','Aug','Sept','Oct','Nov','Dec','spring','Mon','Tue',\n",
    "                      'Wed','Thu','Fri','Sat','Cloudy','Snow','Storm']]\n",
    "X_train_drop=sm.add_constant(X_train_drop)\n",
    "model=OLS(endog=Y_train,exog=X_train_drop,hasconst=True).fit()\n",
    "model.summary()\n",
    "\n",
    "\n",
    "\n",
    "\n"
   ]
  },
  {
   "cell_type": "markdown",
   "metadata": {},
   "source": [
    "*Your answer here*\n",
    "\n",
    "Multicollinearity occurs when independent variables in a regression model are correlated. This correlation is a problem because independent variables should be independent. If the degree of correlation between variables is high enough, it can cause problems when you fit the model and interpret the results. The coefficient values can lead to errors based on the other independent variables in the model. The coefficients are very sensitive to small changes in the model."
   ]
  },
  {
   "cell_type": "markdown",
   "metadata": {},
   "source": [
    "---\n",
    "\n",
    "<div class=\"theme\">  Question 4 - Regression Models with Polynomial and Interaction Terms </div>"
   ]
  },
  {
   "cell_type": "markdown",
   "metadata": {
    "button": false,
    "new_sheet": false,
    "run_control": {
     "read_only": false
    }
   },
   "source": [
    "<div class='exercise'> <b> Question 4.1 </b> </div>"
   ]
  },
  {
   "cell_type": "markdown",
   "metadata": {
    "button": false,
    "new_sheet": false,
    "run_control": {
     "read_only": false
    }
   },
   "source": [
    "Drop the variables `workingday`, `atemp`, `spring`, `summer`, and `fall` from `BSS_train` (if any of them still remain)."
   ]
  },
  {
   "cell_type": "code",
   "execution_count": 100,
   "metadata": {},
   "outputs": [
    {
     "data": {
      "text/html": [
       "<div>\n",
       "<style scoped>\n",
       "    .dataframe tbody tr th:only-of-type {\n",
       "        vertical-align: middle;\n",
       "    }\n",
       "\n",
       "    .dataframe tbody tr th {\n",
       "        vertical-align: top;\n",
       "    }\n",
       "\n",
       "    .dataframe thead th {\n",
       "        text-align: right;\n",
       "    }\n",
       "</style>\n",
       "<table border=\"1\" class=\"dataframe\">\n",
       "  <thead>\n",
       "    <tr style=\"text-align: right;\">\n",
       "      <th></th>\n",
       "      <th>hour</th>\n",
       "      <th>holiday</th>\n",
       "      <th>year</th>\n",
       "      <th>temp</th>\n",
       "      <th>hum</th>\n",
       "      <th>windspeed</th>\n",
       "      <th>counts</th>\n",
       "      <th>Feb</th>\n",
       "      <th>Mar</th>\n",
       "      <th>Apr</th>\n",
       "      <th>...</th>\n",
       "      <th>Dec</th>\n",
       "      <th>Mon</th>\n",
       "      <th>Tue</th>\n",
       "      <th>Wed</th>\n",
       "      <th>Thu</th>\n",
       "      <th>Fri</th>\n",
       "      <th>Sat</th>\n",
       "      <th>Cloudy</th>\n",
       "      <th>Snow</th>\n",
       "      <th>Storm</th>\n",
       "    </tr>\n",
       "  </thead>\n",
       "  <tbody>\n",
       "    <tr>\n",
       "      <th>0</th>\n",
       "      <td>21</td>\n",
       "      <td>0</td>\n",
       "      <td>1</td>\n",
       "      <td>0.24</td>\n",
       "      <td>0.60</td>\n",
       "      <td>0.2537</td>\n",
       "      <td>63</td>\n",
       "      <td>0</td>\n",
       "      <td>0</td>\n",
       "      <td>0</td>\n",
       "      <td>...</td>\n",
       "      <td>1</td>\n",
       "      <td>0</td>\n",
       "      <td>0</td>\n",
       "      <td>0</td>\n",
       "      <td>1</td>\n",
       "      <td>0</td>\n",
       "      <td>0</td>\n",
       "      <td>1</td>\n",
       "      <td>0</td>\n",
       "      <td>0</td>\n",
       "    </tr>\n",
       "    <tr>\n",
       "      <th>1</th>\n",
       "      <td>17</td>\n",
       "      <td>0</td>\n",
       "      <td>0</td>\n",
       "      <td>0.62</td>\n",
       "      <td>0.83</td>\n",
       "      <td>0.2537</td>\n",
       "      <td>479</td>\n",
       "      <td>0</td>\n",
       "      <td>0</td>\n",
       "      <td>0</td>\n",
       "      <td>...</td>\n",
       "      <td>0</td>\n",
       "      <td>0</td>\n",
       "      <td>0</td>\n",
       "      <td>0</td>\n",
       "      <td>1</td>\n",
       "      <td>0</td>\n",
       "      <td>0</td>\n",
       "      <td>0</td>\n",
       "      <td>1</td>\n",
       "      <td>0</td>\n",
       "    </tr>\n",
       "    <tr>\n",
       "      <th>2</th>\n",
       "      <td>9</td>\n",
       "      <td>0</td>\n",
       "      <td>1</td>\n",
       "      <td>0.76</td>\n",
       "      <td>0.66</td>\n",
       "      <td>0.1642</td>\n",
       "      <td>353</td>\n",
       "      <td>0</td>\n",
       "      <td>0</td>\n",
       "      <td>0</td>\n",
       "      <td>...</td>\n",
       "      <td>0</td>\n",
       "      <td>0</td>\n",
       "      <td>0</td>\n",
       "      <td>0</td>\n",
       "      <td>1</td>\n",
       "      <td>0</td>\n",
       "      <td>0</td>\n",
       "      <td>0</td>\n",
       "      <td>0</td>\n",
       "      <td>0</td>\n",
       "    </tr>\n",
       "    <tr>\n",
       "      <th>3</th>\n",
       "      <td>17</td>\n",
       "      <td>0</td>\n",
       "      <td>1</td>\n",
       "      <td>0.62</td>\n",
       "      <td>0.22</td>\n",
       "      <td>0.2985</td>\n",
       "      <td>411</td>\n",
       "      <td>0</td>\n",
       "      <td>0</td>\n",
       "      <td>1</td>\n",
       "      <td>...</td>\n",
       "      <td>0</td>\n",
       "      <td>0</td>\n",
       "      <td>0</td>\n",
       "      <td>0</td>\n",
       "      <td>0</td>\n",
       "      <td>0</td>\n",
       "      <td>0</td>\n",
       "      <td>0</td>\n",
       "      <td>0</td>\n",
       "      <td>0</td>\n",
       "    </tr>\n",
       "    <tr>\n",
       "      <th>4</th>\n",
       "      <td>8</td>\n",
       "      <td>0</td>\n",
       "      <td>1</td>\n",
       "      <td>0.18</td>\n",
       "      <td>0.40</td>\n",
       "      <td>0.1343</td>\n",
       "      <td>70</td>\n",
       "      <td>0</td>\n",
       "      <td>0</td>\n",
       "      <td>0</td>\n",
       "      <td>...</td>\n",
       "      <td>0</td>\n",
       "      <td>0</td>\n",
       "      <td>0</td>\n",
       "      <td>0</td>\n",
       "      <td>0</td>\n",
       "      <td>0</td>\n",
       "      <td>0</td>\n",
       "      <td>0</td>\n",
       "      <td>0</td>\n",
       "      <td>0</td>\n",
       "    </tr>\n",
       "  </tbody>\n",
       "</table>\n",
       "<p>5 rows × 27 columns</p>\n",
       "</div>"
      ],
      "text/plain": [
       "   hour  holiday  year  temp   hum  windspeed  counts  Feb  Mar  Apr  ...  \\\n",
       "0    21        0     1  0.24  0.60     0.2537      63    0    0    0  ...   \n",
       "1    17        0     0  0.62  0.83     0.2537     479    0    0    0  ...   \n",
       "2     9        0     1  0.76  0.66     0.1642     353    0    0    0  ...   \n",
       "3    17        0     1  0.62  0.22     0.2985     411    0    0    1  ...   \n",
       "4     8        0     1  0.18  0.40     0.1343      70    0    0    0  ...   \n",
       "\n",
       "   Dec  Mon  Tue  Wed  Thu  Fri  Sat  Cloudy  Snow  Storm  \n",
       "0    1    0    0    0    1    0    0       1     0      0  \n",
       "1    0    0    0    0    1    0    0       0     1      0  \n",
       "2    0    0    0    0    1    0    0       0     0      0  \n",
       "3    0    0    0    0    0    0    0       0     0      0  \n",
       "4    0    0    0    0    0    0    0       0     0      0  \n",
       "\n",
       "[5 rows x 27 columns]"
      ]
     },
     "execution_count": 100,
     "metadata": {},
     "output_type": "execute_result"
    }
   ],
   "source": [
    "# Your code here\n",
    "\n",
    "BSS_train.head()\n"
   ]
  },
  {
   "cell_type": "markdown",
   "metadata": {
    "button": false,
    "new_sheet": false,
    "run_control": {
     "read_only": false
    }
   },
   "source": [
    "<div class='exercise'> <b> Question 4.2 </b> </div>"
   ]
  },
  {
   "cell_type": "markdown",
   "metadata": {
    "button": false,
    "new_sheet": false,
    "run_control": {
     "read_only": false
    }
   },
   "source": [
    "Write a function to standardize a provided subset of columns in your training/validation/test sets. Remember that while you will be scaling all of your data, you must learn the scaling parameters (mean and SD) from only the training set.\n",
    "\n",
    "Test your code by building a list of all non-binary columns from `X_train` into a dataset called `practice_X_train` and scaling only those columns. Call the result `practice_X_train_scaled`. Display the `.describe()` and verify that you have correctly scaled all columns.\n",
    "\n",
    "**Hint: employ the provided list of binary columns and use `pd.columns.difference()`**\n",
    "\n",
    "`binary_columns = [ 'holiday', 'workingday','Feb', 'Mar', 'Apr',\n",
    "       'May', 'Jun', 'Jul', 'Aug', 'Sept', 'Oct', 'Nov', 'Dec', 'spring',\n",
    "       'summer', 'fall', 'Mon', 'Tue', 'Wed', 'Thu', 'Fri', 'Sat',\n",
    "       'Cloudy', 'Snow', 'Storm']`"
   ]
  },
  {
   "cell_type": "code",
   "execution_count": 96,
   "metadata": {},
   "outputs": [],
   "source": [
    "# Your code here\n",
    "def standardize_cols(cols, df_train, df_test):\n",
    "    return_train = df_train.copy().reset_index().drop(\"index\", axis=1)\n",
    "    return_test = df_test.copy().reset_index().drop(\"index\", axis=1)\n",
    "    \n",
    "    df_train=df_train[cols]\n",
    "    df_test=df_test[cols]\n",
    "    \n",
    "    scaler=StandardScaler().fit(df_train)\n",
    "    \n",
    "    train_scaled=pd.DataFrame(scaler.transform(df_train), columns=cols)\n",
    "    test_scaled=pd.DataFrame(scaler.transform(df_test), columns=cols)\n",
    "    \n",
    "    for col in train_scaled.columns:\n",
    "        return_train[col]=train_scaled[col]\n",
    "        return_train[col]=train_scaled[col]\n",
    "        \n",
    "    return return_train, return_test\n",
    "\n",
    "\n",
    "        "
   ]
  },
  {
   "cell_type": "code",
   "execution_count": 98,
   "metadata": {},
   "outputs": [
    {
     "data": {
      "text/html": [
       "<div>\n",
       "<style scoped>\n",
       "    .dataframe tbody tr th:only-of-type {\n",
       "        vertical-align: middle;\n",
       "    }\n",
       "\n",
       "    .dataframe tbody tr th {\n",
       "        vertical-align: top;\n",
       "    }\n",
       "\n",
       "    .dataframe thead th {\n",
       "        text-align: right;\n",
       "    }\n",
       "</style>\n",
       "<table border=\"1\" class=\"dataframe\">\n",
       "  <thead>\n",
       "    <tr style=\"text-align: right;\">\n",
       "      <th></th>\n",
       "      <th>hour</th>\n",
       "      <th>holiday</th>\n",
       "      <th>year</th>\n",
       "      <th>workingday</th>\n",
       "      <th>temp</th>\n",
       "      <th>atemp</th>\n",
       "      <th>hum</th>\n",
       "      <th>windspeed</th>\n",
       "      <th>counts</th>\n",
       "      <th>spring</th>\n",
       "      <th>...</th>\n",
       "      <th>Dec</th>\n",
       "      <th>Mon</th>\n",
       "      <th>Tue</th>\n",
       "      <th>Wed</th>\n",
       "      <th>Thu</th>\n",
       "      <th>Fri</th>\n",
       "      <th>Sat</th>\n",
       "      <th>Cloudy</th>\n",
       "      <th>Snow</th>\n",
       "      <th>Storm</th>\n",
       "    </tr>\n",
       "  </thead>\n",
       "  <tbody>\n",
       "    <tr>\n",
       "      <th>count</th>\n",
       "      <td>8690.000000</td>\n",
       "      <td>8690.000000</td>\n",
       "      <td>8690.000000</td>\n",
       "      <td>8690.000000</td>\n",
       "      <td>8690.000000</td>\n",
       "      <td>8690.000000</td>\n",
       "      <td>8690.000000</td>\n",
       "      <td>8690.000000</td>\n",
       "      <td>8690.000000</td>\n",
       "      <td>8690.000000</td>\n",
       "      <td>...</td>\n",
       "      <td>8690.000000</td>\n",
       "      <td>8690.000000</td>\n",
       "      <td>8690.000000</td>\n",
       "      <td>8690.000000</td>\n",
       "      <td>8690.000000</td>\n",
       "      <td>8690.000000</td>\n",
       "      <td>8690.000000</td>\n",
       "      <td>8690.000000</td>\n",
       "      <td>8690.000000</td>\n",
       "      <td>8690.000000</td>\n",
       "    </tr>\n",
       "    <tr>\n",
       "      <th>mean</th>\n",
       "      <td>11.495972</td>\n",
       "      <td>0.028193</td>\n",
       "      <td>0.501726</td>\n",
       "      <td>0.682394</td>\n",
       "      <td>0.497570</td>\n",
       "      <td>0.476151</td>\n",
       "      <td>0.629201</td>\n",
       "      <td>0.189580</td>\n",
       "      <td>188.544764</td>\n",
       "      <td>0.257077</td>\n",
       "      <td>...</td>\n",
       "      <td>0.085386</td>\n",
       "      <td>0.141082</td>\n",
       "      <td>0.144419</td>\n",
       "      <td>0.143038</td>\n",
       "      <td>0.139816</td>\n",
       "      <td>0.142232</td>\n",
       "      <td>0.143038</td>\n",
       "      <td>0.265362</td>\n",
       "      <td>0.079977</td>\n",
       "      <td>0.000115</td>\n",
       "    </tr>\n",
       "    <tr>\n",
       "      <th>std</th>\n",
       "      <td>6.868329</td>\n",
       "      <td>0.165534</td>\n",
       "      <td>0.500026</td>\n",
       "      <td>0.465572</td>\n",
       "      <td>0.192561</td>\n",
       "      <td>0.171717</td>\n",
       "      <td>0.193568</td>\n",
       "      <td>0.121426</td>\n",
       "      <td>181.348797</td>\n",
       "      <td>0.437047</td>\n",
       "      <td>...</td>\n",
       "      <td>0.279471</td>\n",
       "      <td>0.348126</td>\n",
       "      <td>0.351534</td>\n",
       "      <td>0.350132</td>\n",
       "      <td>0.346816</td>\n",
       "      <td>0.349308</td>\n",
       "      <td>0.350132</td>\n",
       "      <td>0.441551</td>\n",
       "      <td>0.271273</td>\n",
       "      <td>0.010727</td>\n",
       "    </tr>\n",
       "    <tr>\n",
       "      <th>min</th>\n",
       "      <td>0.000000</td>\n",
       "      <td>0.000000</td>\n",
       "      <td>0.000000</td>\n",
       "      <td>0.000000</td>\n",
       "      <td>0.020000</td>\n",
       "      <td>0.030300</td>\n",
       "      <td>0.000000</td>\n",
       "      <td>0.000000</td>\n",
       "      <td>1.000000</td>\n",
       "      <td>0.000000</td>\n",
       "      <td>...</td>\n",
       "      <td>0.000000</td>\n",
       "      <td>0.000000</td>\n",
       "      <td>0.000000</td>\n",
       "      <td>0.000000</td>\n",
       "      <td>0.000000</td>\n",
       "      <td>0.000000</td>\n",
       "      <td>0.000000</td>\n",
       "      <td>0.000000</td>\n",
       "      <td>0.000000</td>\n",
       "      <td>0.000000</td>\n",
       "    </tr>\n",
       "    <tr>\n",
       "      <th>25%</th>\n",
       "      <td>6.000000</td>\n",
       "      <td>0.000000</td>\n",
       "      <td>0.000000</td>\n",
       "      <td>0.000000</td>\n",
       "      <td>0.340000</td>\n",
       "      <td>0.333300</td>\n",
       "      <td>0.480000</td>\n",
       "      <td>0.104500</td>\n",
       "      <td>40.000000</td>\n",
       "      <td>0.000000</td>\n",
       "      <td>...</td>\n",
       "      <td>0.000000</td>\n",
       "      <td>0.000000</td>\n",
       "      <td>0.000000</td>\n",
       "      <td>0.000000</td>\n",
       "      <td>0.000000</td>\n",
       "      <td>0.000000</td>\n",
       "      <td>0.000000</td>\n",
       "      <td>0.000000</td>\n",
       "      <td>0.000000</td>\n",
       "      <td>0.000000</td>\n",
       "    </tr>\n",
       "    <tr>\n",
       "      <th>50%</th>\n",
       "      <td>11.000000</td>\n",
       "      <td>0.000000</td>\n",
       "      <td>1.000000</td>\n",
       "      <td>1.000000</td>\n",
       "      <td>0.500000</td>\n",
       "      <td>0.484800</td>\n",
       "      <td>0.630000</td>\n",
       "      <td>0.194000</td>\n",
       "      <td>141.000000</td>\n",
       "      <td>0.000000</td>\n",
       "      <td>...</td>\n",
       "      <td>0.000000</td>\n",
       "      <td>0.000000</td>\n",
       "      <td>0.000000</td>\n",
       "      <td>0.000000</td>\n",
       "      <td>0.000000</td>\n",
       "      <td>0.000000</td>\n",
       "      <td>0.000000</td>\n",
       "      <td>0.000000</td>\n",
       "      <td>0.000000</td>\n",
       "      <td>0.000000</td>\n",
       "    </tr>\n",
       "    <tr>\n",
       "      <th>75%</th>\n",
       "      <td>17.000000</td>\n",
       "      <td>0.000000</td>\n",
       "      <td>1.000000</td>\n",
       "      <td>1.000000</td>\n",
       "      <td>0.660000</td>\n",
       "      <td>0.621200</td>\n",
       "      <td>0.790000</td>\n",
       "      <td>0.253700</td>\n",
       "      <td>276.000000</td>\n",
       "      <td>1.000000</td>\n",
       "      <td>...</td>\n",
       "      <td>0.000000</td>\n",
       "      <td>0.000000</td>\n",
       "      <td>0.000000</td>\n",
       "      <td>0.000000</td>\n",
       "      <td>0.000000</td>\n",
       "      <td>0.000000</td>\n",
       "      <td>0.000000</td>\n",
       "      <td>1.000000</td>\n",
       "      <td>0.000000</td>\n",
       "      <td>0.000000</td>\n",
       "    </tr>\n",
       "    <tr>\n",
       "      <th>max</th>\n",
       "      <td>23.000000</td>\n",
       "      <td>1.000000</td>\n",
       "      <td>1.000000</td>\n",
       "      <td>1.000000</td>\n",
       "      <td>1.000000</td>\n",
       "      <td>1.000000</td>\n",
       "      <td>1.000000</td>\n",
       "      <td>0.850700</td>\n",
       "      <td>976.000000</td>\n",
       "      <td>1.000000</td>\n",
       "      <td>...</td>\n",
       "      <td>1.000000</td>\n",
       "      <td>1.000000</td>\n",
       "      <td>1.000000</td>\n",
       "      <td>1.000000</td>\n",
       "      <td>1.000000</td>\n",
       "      <td>1.000000</td>\n",
       "      <td>1.000000</td>\n",
       "      <td>1.000000</td>\n",
       "      <td>1.000000</td>\n",
       "      <td>1.000000</td>\n",
       "    </tr>\n",
       "  </tbody>\n",
       "</table>\n",
       "<p>8 rows × 32 columns</p>\n",
       "</div>"
      ],
      "text/plain": [
       "              hour      holiday         year   workingday         temp  \\\n",
       "count  8690.000000  8690.000000  8690.000000  8690.000000  8690.000000   \n",
       "mean     11.495972     0.028193     0.501726     0.682394     0.497570   \n",
       "std       6.868329     0.165534     0.500026     0.465572     0.192561   \n",
       "min       0.000000     0.000000     0.000000     0.000000     0.020000   \n",
       "25%       6.000000     0.000000     0.000000     0.000000     0.340000   \n",
       "50%      11.000000     0.000000     1.000000     1.000000     0.500000   \n",
       "75%      17.000000     0.000000     1.000000     1.000000     0.660000   \n",
       "max      23.000000     1.000000     1.000000     1.000000     1.000000   \n",
       "\n",
       "             atemp          hum    windspeed       counts       spring  ...  \\\n",
       "count  8690.000000  8690.000000  8690.000000  8690.000000  8690.000000  ...   \n",
       "mean      0.476151     0.629201     0.189580   188.544764     0.257077  ...   \n",
       "std       0.171717     0.193568     0.121426   181.348797     0.437047  ...   \n",
       "min       0.030300     0.000000     0.000000     1.000000     0.000000  ...   \n",
       "25%       0.333300     0.480000     0.104500    40.000000     0.000000  ...   \n",
       "50%       0.484800     0.630000     0.194000   141.000000     0.000000  ...   \n",
       "75%       0.621200     0.790000     0.253700   276.000000     1.000000  ...   \n",
       "max       1.000000     1.000000     0.850700   976.000000     1.000000  ...   \n",
       "\n",
       "               Dec          Mon          Tue          Wed          Thu  \\\n",
       "count  8690.000000  8690.000000  8690.000000  8690.000000  8690.000000   \n",
       "mean      0.085386     0.141082     0.144419     0.143038     0.139816   \n",
       "std       0.279471     0.348126     0.351534     0.350132     0.346816   \n",
       "min       0.000000     0.000000     0.000000     0.000000     0.000000   \n",
       "25%       0.000000     0.000000     0.000000     0.000000     0.000000   \n",
       "50%       0.000000     0.000000     0.000000     0.000000     0.000000   \n",
       "75%       0.000000     0.000000     0.000000     0.000000     0.000000   \n",
       "max       1.000000     1.000000     1.000000     1.000000     1.000000   \n",
       "\n",
       "               Fri          Sat       Cloudy         Snow        Storm  \n",
       "count  8690.000000  8690.000000  8690.000000  8690.000000  8690.000000  \n",
       "mean      0.142232     0.143038     0.265362     0.079977     0.000115  \n",
       "std       0.349308     0.350132     0.441551     0.271273     0.010727  \n",
       "min       0.000000     0.000000     0.000000     0.000000     0.000000  \n",
       "25%       0.000000     0.000000     0.000000     0.000000     0.000000  \n",
       "50%       0.000000     0.000000     0.000000     0.000000     0.000000  \n",
       "75%       0.000000     0.000000     1.000000     0.000000     0.000000  \n",
       "max       1.000000     1.000000     1.000000     1.000000     1.000000  \n",
       "\n",
       "[8 rows x 32 columns]"
      ]
     },
     "execution_count": 98,
     "metadata": {},
     "output_type": "execute_result"
    }
   ],
   "source": [
    "binary_columns=[ 'const','holiday', 'workingday','Feb', 'Mar', 'Apr',\n",
    "       'May', 'Jun', 'Jul', 'Aug', 'Sept', 'Oct', 'Nov', 'Dec', 'spring',\n",
    "       'summer', 'fall', 'Mon', 'Tue', 'Wed', 'Thu', 'Fri', 'Sat',\n",
    "       'Cloudy', 'Snow', 'Storm']\n",
    "nonbinary_columns=X_train.columns.difference(binary_columns)\n",
    "practice_X_train=X_train[nonbinary_columns]\n",
    "\n",
    "practice_X_train_scaled, practice_X_test_scaled=standardize_cols(nonbinary_columns,X_train,BSS_test)\n",
    "practice_X_test_scaled.describe()"
   ]
  },
  {
   "cell_type": "markdown",
   "metadata": {
    "button": false,
    "new_sheet": false,
    "run_control": {
     "read_only": false
    }
   },
   "source": [
    "<div class='exercise'> <b> Question 4.3 </b> </div>"
   ]
  },
  {
   "cell_type": "markdown",
   "metadata": {
    "button": false,
    "new_sheet": false,
    "run_control": {
     "read_only": false
    }
   },
   "source": [
    "Write a code to augment your a dataset with higher-order features for `temp`, `hum`,`windspeed`, and `hour`. You should include ONLY the pure powers of these columns. So with degree=2 you should produce `temp^2` and `hum^2` but not `temp*hum` or any other two-feature interactions. \n",
    "\n",
    "Encapsulate this process as a function with appropriate inputs and outputs, and test your code by producing `practice_X_train_poly`, a training dataset with quadratic and cubic features built from `practice_X_train_scaled`, and printing `practice_X_train_poly`'s column names and `.head()`."
   ]
  },
  {
   "cell_type": "code",
   "execution_count": 99,
   "metadata": {},
   "outputs": [
    {
     "name": "stdout",
     "output_type": "stream",
     "text": [
      "Index(['const', 'hour', 'holiday', 'year', 'workingday', 'temp', 'atemp',\n",
      "       'hum', 'windspeed', 'spring', 'summer', 'fall', 'Feb', 'Mar', 'Apr',\n",
      "       'May', 'Jun', 'Jul', 'Aug', 'Sept', 'Oct', 'Nov', 'Dec', 'Mon', 'Tue',\n",
      "       'Wed', 'Thu', 'Fri', 'Sat', 'Cloudy', 'Snow', 'Storm'],\n",
      "      dtype='object')\n"
     ]
    },
    {
     "data": {
      "text/html": [
       "<div>\n",
       "<style scoped>\n",
       "    .dataframe tbody tr th:only-of-type {\n",
       "        vertical-align: middle;\n",
       "    }\n",
       "\n",
       "    .dataframe tbody tr th {\n",
       "        vertical-align: top;\n",
       "    }\n",
       "\n",
       "    .dataframe thead th {\n",
       "        text-align: right;\n",
       "    }\n",
       "</style>\n",
       "<table border=\"1\" class=\"dataframe\">\n",
       "  <thead>\n",
       "    <tr style=\"text-align: right;\">\n",
       "      <th></th>\n",
       "      <th>const</th>\n",
       "      <th>hour</th>\n",
       "      <th>holiday</th>\n",
       "      <th>year</th>\n",
       "      <th>workingday</th>\n",
       "      <th>temp</th>\n",
       "      <th>atemp</th>\n",
       "      <th>hum</th>\n",
       "      <th>windspeed</th>\n",
       "      <th>spring</th>\n",
       "      <th>...</th>\n",
       "      <th>Thu</th>\n",
       "      <th>Fri</th>\n",
       "      <th>Sat</th>\n",
       "      <th>Cloudy</th>\n",
       "      <th>Snow</th>\n",
       "      <th>Storm</th>\n",
       "      <th>temp^2</th>\n",
       "      <th>hum^2</th>\n",
       "      <th>windspeed^2</th>\n",
       "      <th>hour^2</th>\n",
       "    </tr>\n",
       "  </thead>\n",
       "  <tbody>\n",
       "    <tr>\n",
       "      <th>0</th>\n",
       "      <td>1.0</td>\n",
       "      <td>1.350966</td>\n",
       "      <td>0</td>\n",
       "      <td>0.993233</td>\n",
       "      <td>1</td>\n",
       "      <td>-1.331629</td>\n",
       "      <td>-1.442584</td>\n",
       "      <td>-0.131358</td>\n",
       "      <td>0.511860</td>\n",
       "      <td>0</td>\n",
       "      <td>...</td>\n",
       "      <td>1</td>\n",
       "      <td>0</td>\n",
       "      <td>0</td>\n",
       "      <td>1</td>\n",
       "      <td>0</td>\n",
       "      <td>0</td>\n",
       "      <td>1.773236</td>\n",
       "      <td>0.017255</td>\n",
       "      <td>0.262001</td>\n",
       "      <td>1.825110</td>\n",
       "    </tr>\n",
       "    <tr>\n",
       "      <th>1</th>\n",
       "      <td>1.0</td>\n",
       "      <td>0.776238</td>\n",
       "      <td>0</td>\n",
       "      <td>-1.006813</td>\n",
       "      <td>1</td>\n",
       "      <td>0.641888</td>\n",
       "      <td>0.583783</td>\n",
       "      <td>1.064879</td>\n",
       "      <td>0.511860</td>\n",
       "      <td>0</td>\n",
       "      <td>...</td>\n",
       "      <td>1</td>\n",
       "      <td>0</td>\n",
       "      <td>0</td>\n",
       "      <td>0</td>\n",
       "      <td>1</td>\n",
       "      <td>0</td>\n",
       "      <td>0.412021</td>\n",
       "      <td>1.133967</td>\n",
       "      <td>0.262001</td>\n",
       "      <td>0.602545</td>\n",
       "    </tr>\n",
       "    <tr>\n",
       "      <th>2</th>\n",
       "      <td>1.0</td>\n",
       "      <td>-0.373220</td>\n",
       "      <td>0</td>\n",
       "      <td>0.993233</td>\n",
       "      <td>1</td>\n",
       "      <td>1.368974</td>\n",
       "      <td>1.464686</td>\n",
       "      <td>0.180704</td>\n",
       "      <td>-0.214334</td>\n",
       "      <td>0</td>\n",
       "      <td>...</td>\n",
       "      <td>1</td>\n",
       "      <td>0</td>\n",
       "      <td>0</td>\n",
       "      <td>0</td>\n",
       "      <td>0</td>\n",
       "      <td>0</td>\n",
       "      <td>1.874089</td>\n",
       "      <td>0.032654</td>\n",
       "      <td>0.045939</td>\n",
       "      <td>0.139293</td>\n",
       "    </tr>\n",
       "    <tr>\n",
       "      <th>3</th>\n",
       "      <td>1.0</td>\n",
       "      <td>0.776238</td>\n",
       "      <td>0</td>\n",
       "      <td>0.993233</td>\n",
       "      <td>0</td>\n",
       "      <td>0.641888</td>\n",
       "      <td>0.759963</td>\n",
       "      <td>-2.107748</td>\n",
       "      <td>0.875363</td>\n",
       "      <td>1</td>\n",
       "      <td>...</td>\n",
       "      <td>0</td>\n",
       "      <td>0</td>\n",
       "      <td>0</td>\n",
       "      <td>0</td>\n",
       "      <td>0</td>\n",
       "      <td>0</td>\n",
       "      <td>0.412021</td>\n",
       "      <td>4.442601</td>\n",
       "      <td>0.766260</td>\n",
       "      <td>0.602545</td>\n",
       "    </tr>\n",
       "    <tr>\n",
       "      <th>4</th>\n",
       "      <td>1.0</td>\n",
       "      <td>-0.516902</td>\n",
       "      <td>0</td>\n",
       "      <td>0.993233</td>\n",
       "      <td>0</td>\n",
       "      <td>-1.643237</td>\n",
       "      <td>-1.618765</td>\n",
       "      <td>-1.171563</td>\n",
       "      <td>-0.456939</td>\n",
       "      <td>0</td>\n",
       "      <td>...</td>\n",
       "      <td>0</td>\n",
       "      <td>0</td>\n",
       "      <td>0</td>\n",
       "      <td>0</td>\n",
       "      <td>0</td>\n",
       "      <td>0</td>\n",
       "      <td>2.700228</td>\n",
       "      <td>1.372560</td>\n",
       "      <td>0.208794</td>\n",
       "      <td>0.267188</td>\n",
       "    </tr>\n",
       "  </tbody>\n",
       "</table>\n",
       "<p>5 rows × 36 columns</p>\n",
       "</div>"
      ],
      "text/plain": [
       "   const      hour  holiday      year  workingday      temp     atemp  \\\n",
       "0    1.0  1.350966        0  0.993233           1 -1.331629 -1.442584   \n",
       "1    1.0  0.776238        0 -1.006813           1  0.641888  0.583783   \n",
       "2    1.0 -0.373220        0  0.993233           1  1.368974  1.464686   \n",
       "3    1.0  0.776238        0  0.993233           0  0.641888  0.759963   \n",
       "4    1.0 -0.516902        0  0.993233           0 -1.643237 -1.618765   \n",
       "\n",
       "        hum  windspeed  spring  ...  Thu  Fri  Sat  Cloudy  Snow  Storm  \\\n",
       "0 -0.131358   0.511860       0  ...    1    0    0       1     0      0   \n",
       "1  1.064879   0.511860       0  ...    1    0    0       0     1      0   \n",
       "2  0.180704  -0.214334       0  ...    1    0    0       0     0      0   \n",
       "3 -2.107748   0.875363       1  ...    0    0    0       0     0      0   \n",
       "4 -1.171563  -0.456939       0  ...    0    0    0       0     0      0   \n",
       "\n",
       "     temp^2     hum^2  windspeed^2    hour^2  \n",
       "0  1.773236  0.017255     0.262001  1.825110  \n",
       "1  0.412021  1.133967     0.262001  0.602545  \n",
       "2  1.874089  0.032654     0.045939  0.139293  \n",
       "3  0.412021  4.442601     0.766260  0.602545  \n",
       "4  2.700228  1.372560     0.208794  0.267188  \n",
       "\n",
       "[5 rows x 36 columns]"
      ]
     },
     "execution_count": 99,
     "metadata": {},
     "output_type": "execute_result"
    }
   ],
   "source": [
    "print(practice_X_train_scaled.columns)\n",
    "def higher_order(df_scaled, degree, cols):\n",
    "    df=df_scaled.copy()\n",
    "    for col in cols:\n",
    "        for i in range(2, degree+1):\n",
    "            df['{}^{}'.format(col, i)]=df[col]**i\n",
    "    return df\n",
    "higher_order_feat=[\"temp\",\"hum\",\"windspeed\",\"hour\"]\n",
    "\n",
    "practice_X_train_poly=higher_order(practice_X_train_scaled, 2, higher_order_feat)\n",
    "practice_X_train_poly.head()"
   ]
  },
  {
   "cell_type": "markdown",
   "metadata": {
    "button": false,
    "new_sheet": false,
    "run_control": {
     "read_only": false
    }
   },
   "source": [
    "<div class='exercise'> <b> Question 4.4 </b> </div>"
   ]
  },
  {
   "cell_type": "markdown",
   "metadata": {
    "button": false,
    "new_sheet": false,
    "run_control": {
     "read_only": false
    }
   },
   "source": [
    "Write code to add interaction terms to the model. Specifically, we want interactions between the continuous predictors (`temp`, `hum`,`windspeed`) and the month and weekday dummies (`Feb`, `Mar`...`Dec`, `Mon`, `Tue`, ... `Sat`). That means you SHOULD build `temp*Feb` and `hum*Mon` and so on, but NOT `Feb*Mar` and NOT `Feb*Tue`. The interaction terms should always be a continuous feature times a month dummy or a continuous feature times a weekday dummy.\n",
    "\n",
    "Encapsulate this process as a function with appropriate inputs and outputs, and test your code by adding interaction terms to `practice_X_train_poly` and show its column names and `.head()`**"
   ]
  },
  {
   "cell_type": "code",
   "execution_count": 103,
   "metadata": {},
   "outputs": [
    {
     "data": {
      "text/html": [
       "<div>\n",
       "<style scoped>\n",
       "    .dataframe tbody tr th:only-of-type {\n",
       "        vertical-align: middle;\n",
       "    }\n",
       "\n",
       "    .dataframe tbody tr th {\n",
       "        vertical-align: top;\n",
       "    }\n",
       "\n",
       "    .dataframe thead th {\n",
       "        text-align: right;\n",
       "    }\n",
       "</style>\n",
       "<table border=\"1\" class=\"dataframe\">\n",
       "  <thead>\n",
       "    <tr style=\"text-align: right;\">\n",
       "      <th></th>\n",
       "      <th>atemp</th>\n",
       "      <th>const</th>\n",
       "      <th>fall</th>\n",
       "      <th>hour^2</th>\n",
       "      <th>hum^2</th>\n",
       "      <th>spring</th>\n",
       "      <th>summer</th>\n",
       "      <th>temp^2</th>\n",
       "      <th>windspeed^2</th>\n",
       "      <th>workingday</th>\n",
       "      <th>...</th>\n",
       "      <th>windspeed Sept</th>\n",
       "      <th>windspeed Oct</th>\n",
       "      <th>windspeed Nov</th>\n",
       "      <th>windspeed Dec</th>\n",
       "      <th>windspeed Mon</th>\n",
       "      <th>windspeed Tue</th>\n",
       "      <th>windspeed Wed</th>\n",
       "      <th>windspeed Thu</th>\n",
       "      <th>windspeed Fri</th>\n",
       "      <th>windspeed Sat</th>\n",
       "    </tr>\n",
       "  </thead>\n",
       "  <tbody>\n",
       "    <tr>\n",
       "      <th>0</th>\n",
       "      <td>-1.442584</td>\n",
       "      <td>1.0</td>\n",
       "      <td>0</td>\n",
       "      <td>1.825110</td>\n",
       "      <td>0.017255</td>\n",
       "      <td>0</td>\n",
       "      <td>0</td>\n",
       "      <td>1.773236</td>\n",
       "      <td>0.262001</td>\n",
       "      <td>1</td>\n",
       "      <td>...</td>\n",
       "      <td>0.0</td>\n",
       "      <td>0.0000</td>\n",
       "      <td>0.0</td>\n",
       "      <td>0.2537</td>\n",
       "      <td>0.0</td>\n",
       "      <td>0.0</td>\n",
       "      <td>0.0</td>\n",
       "      <td>0.2537</td>\n",
       "      <td>0.0</td>\n",
       "      <td>0.0</td>\n",
       "    </tr>\n",
       "    <tr>\n",
       "      <th>1</th>\n",
       "      <td>0.583783</td>\n",
       "      <td>1.0</td>\n",
       "      <td>1</td>\n",
       "      <td>0.602545</td>\n",
       "      <td>1.133967</td>\n",
       "      <td>0</td>\n",
       "      <td>0</td>\n",
       "      <td>0.412021</td>\n",
       "      <td>0.262001</td>\n",
       "      <td>1</td>\n",
       "      <td>...</td>\n",
       "      <td>0.0</td>\n",
       "      <td>0.2537</td>\n",
       "      <td>0.0</td>\n",
       "      <td>0.0000</td>\n",
       "      <td>0.0</td>\n",
       "      <td>0.0</td>\n",
       "      <td>0.0</td>\n",
       "      <td>0.2537</td>\n",
       "      <td>0.0</td>\n",
       "      <td>0.0</td>\n",
       "    </tr>\n",
       "    <tr>\n",
       "      <th>2</th>\n",
       "      <td>1.464686</td>\n",
       "      <td>1.0</td>\n",
       "      <td>0</td>\n",
       "      <td>0.139293</td>\n",
       "      <td>0.032654</td>\n",
       "      <td>0</td>\n",
       "      <td>1</td>\n",
       "      <td>1.874089</td>\n",
       "      <td>0.045939</td>\n",
       "      <td>1</td>\n",
       "      <td>...</td>\n",
       "      <td>0.0</td>\n",
       "      <td>0.0000</td>\n",
       "      <td>0.0</td>\n",
       "      <td>0.0000</td>\n",
       "      <td>0.0</td>\n",
       "      <td>0.0</td>\n",
       "      <td>0.0</td>\n",
       "      <td>0.1642</td>\n",
       "      <td>0.0</td>\n",
       "      <td>0.0</td>\n",
       "    </tr>\n",
       "    <tr>\n",
       "      <th>3</th>\n",
       "      <td>0.759963</td>\n",
       "      <td>1.0</td>\n",
       "      <td>0</td>\n",
       "      <td>0.602545</td>\n",
       "      <td>4.442601</td>\n",
       "      <td>1</td>\n",
       "      <td>0</td>\n",
       "      <td>0.412021</td>\n",
       "      <td>0.766260</td>\n",
       "      <td>0</td>\n",
       "      <td>...</td>\n",
       "      <td>0.0</td>\n",
       "      <td>0.0000</td>\n",
       "      <td>0.0</td>\n",
       "      <td>0.0000</td>\n",
       "      <td>0.0</td>\n",
       "      <td>0.0</td>\n",
       "      <td>0.0</td>\n",
       "      <td>0.0000</td>\n",
       "      <td>0.0</td>\n",
       "      <td>0.0</td>\n",
       "    </tr>\n",
       "    <tr>\n",
       "      <th>4</th>\n",
       "      <td>-1.618765</td>\n",
       "      <td>1.0</td>\n",
       "      <td>0</td>\n",
       "      <td>0.267188</td>\n",
       "      <td>1.372560</td>\n",
       "      <td>0</td>\n",
       "      <td>0</td>\n",
       "      <td>2.700228</td>\n",
       "      <td>0.208794</td>\n",
       "      <td>0</td>\n",
       "      <td>...</td>\n",
       "      <td>0.0</td>\n",
       "      <td>0.0000</td>\n",
       "      <td>0.0</td>\n",
       "      <td>0.0000</td>\n",
       "      <td>0.0</td>\n",
       "      <td>0.0</td>\n",
       "      <td>0.0</td>\n",
       "      <td>0.0000</td>\n",
       "      <td>0.0</td>\n",
       "      <td>0.0</td>\n",
       "    </tr>\n",
       "  </tbody>\n",
       "</table>\n",
       "<p>5 rows × 88 columns</p>\n",
       "</div>"
      ],
      "text/plain": [
       "      atemp  const  fall    hour^2     hum^2  spring  summer    temp^2  \\\n",
       "0 -1.442584    1.0     0  1.825110  0.017255       0       0  1.773236   \n",
       "1  0.583783    1.0     1  0.602545  1.133967       0       0  0.412021   \n",
       "2  1.464686    1.0     0  0.139293  0.032654       0       1  1.874089   \n",
       "3  0.759963    1.0     0  0.602545  4.442601       1       0  0.412021   \n",
       "4 -1.618765    1.0     0  0.267188  1.372560       0       0  2.700228   \n",
       "\n",
       "   windspeed^2  workingday  ...  windspeed Sept  windspeed Oct  windspeed Nov  \\\n",
       "0     0.262001           1  ...             0.0         0.0000            0.0   \n",
       "1     0.262001           1  ...             0.0         0.2537            0.0   \n",
       "2     0.045939           1  ...             0.0         0.0000            0.0   \n",
       "3     0.766260           0  ...             0.0         0.0000            0.0   \n",
       "4     0.208794           0  ...             0.0         0.0000            0.0   \n",
       "\n",
       "   windspeed Dec  windspeed Mon  windspeed Tue  windspeed Wed  windspeed Thu  \\\n",
       "0         0.2537            0.0            0.0            0.0         0.2537   \n",
       "1         0.0000            0.0            0.0            0.0         0.2537   \n",
       "2         0.0000            0.0            0.0            0.0         0.1642   \n",
       "3         0.0000            0.0            0.0            0.0         0.0000   \n",
       "4         0.0000            0.0            0.0            0.0         0.0000   \n",
       "\n",
       "   windspeed Fri  windspeed Sat  \n",
       "0            0.0            0.0  \n",
       "1            0.0            0.0  \n",
       "2            0.0            0.0  \n",
       "3            0.0            0.0  \n",
       "4            0.0            0.0  \n",
       "\n",
       "[5 rows x 88 columns]"
      ]
     },
     "execution_count": 103,
     "metadata": {},
     "output_type": "execute_result"
    }
   ],
   "source": [
    "# Your code here\n",
    "continuous_predictors=[\"temp\",\"hum\",\"windspeed\"]\n",
    "dummies=['Feb', 'Mar', 'Apr',\n",
    "       'May', 'Jun', 'Jul', 'Aug', 'Sept', 'Oct', 'Nov', 'Dec','Mon', 'Tue', 'Wed', 'Thu', 'Fri', 'Sat']\n",
    "def higher_order_dummies(df,continuous,dummies):\n",
    "    df_copy=df.copy()\n",
    "    column_names_final=[]\n",
    "    for a in continuous:\n",
    "        for b in dummies:\n",
    "            column_names_final.append(a+\" \"+b)\n",
    "            df_copy[a+\" \"+b]=df_copy[a]*df_copy[b]\n",
    "    return df_copy\n",
    "return_df=higher_order_dummies(BSS_train,continuous_predictors,dummies)\n",
    "practice_X_train_poly=pd.concat([practice_X_train_poly[practice_X_train_poly.columns.difference(return_df.columns)],return_df], axis = 1)\n",
    "practice_X_train_poly.head()"
   ]
  },
  {
   "cell_type": "markdown",
   "metadata": {
    "button": false,
    "new_sheet": false,
    "run_control": {
     "read_only": false
    }
   },
   "source": [
    "<div class='exercise'> <b> Question 4.5 </b> </div>"
   ]
  },
  {
   "cell_type": "markdown",
   "metadata": {
    "button": false,
    "new_sheet": false,
    "run_control": {
     "read_only": false
    }
   },
   "source": [
    "Combine all your code so far into a function named `get_design_mats` that takes in `BSS_train`, `BSS_test`, the names of columns for polynomial, the target column, the columns to be dropped and produces computation-ready design matrices `X_train` and `X_test` and responses `y_train` and `y_test`. Your final function should build correct, scaled design matrices with the stated interaction terms and any polynomial degree."
   ]
  },
  {
   "cell_type": "code",
   "execution_count": 119,
   "metadata": {},
   "outputs": [],
   "source": [
    "def get_design_mats(train_df, val_df,  degree, \n",
    "                    columns_forpoly=['temp', 'hum','windspeed', 'hour'],\n",
    "                    target_col='counts', \n",
    "                    bad_columns=['counts']):\n",
    "    train_df = train_df.reset_index().drop('index', axis = 1)\n",
    "    val_df = val_df.reset_index().drop('index', axis = 1)\n",
    "    \n",
    "    y_train = train_df[target_col]\n",
    "    y_val = val_df[target_col]\n",
    "    x_train = train_df.drop(bad_columns, axis = 1)\n",
    "    x_val = val_df.drop(bad_columns, axis = 1)\n",
    "    \n",
    "    nonbinary_columns = x_train.columns.difference(binary_columns)\n",
    "    \n",
    "    x_train, x_val = standardize_cols(nonbinary_columns, x_train, x_val)\n",
    "    \n",
    "    x_train = higher_order(x_train, degree, columns_forpoly)\n",
    "    x_val = higher_order(x_val, dgree, columns_forpoly)\n",
    "    \n",
    "    dummy_cols = ['Feb', 'Mar', 'Apr', 'May', 'Jun', 'Jul', 'Aug', 'Sept', 'Oct', 'Nov', 'Dec', 'Mon', 'Tue', 'Wed', 'Thurs', 'Fri', 'Sat', 'Sun']\n",
    "    \n",
    "    continuous_pred = ['temp', 'hum', 'windspeed']\n",
    "    \n",
    "    \"\"\"\n",
    "    :param train_df: The training data\n",
    "    :param val_df: Your test/validation data\n",
    "    :param columns_forpoly: List containing the column name for which we want to create \n",
    "                            polynomial terms\n",
    "    :param target_col: The response variable column\n",
    "    :param bad_columns: The columns you want to drop\n",
    "    \"\"\"\n",
    "    \n",
    "    # Add code here\n",
    "    x_train=higher_order_dummies(x_train,continous_pred, dummy_cols)\n",
    "    x_val=higher_order_dummies(X_val, continous_pred, dummy_cols)\n",
    "    \n",
    "    x_train[\"const\"]=1\n",
    "    x_val[\"const\"]=1\n",
    "    return x_train,y_train, x_val,y_val\n",
    "    return x_train,y_train, x_val,y_val\n"
   ]
  },
  {
   "cell_type": "markdown",
   "metadata": {
    "button": false,
    "new_sheet": false,
    "run_control": {
     "read_only": false
    }
   },
   "source": [
    "<div class='exercise'> <b> Question 4.6 </b> </div>"
   ]
  },
  {
   "cell_type": "markdown",
   "metadata": {
    "button": false,
    "new_sheet": false,
    "run_control": {
     "read_only": false
    }
   },
   "source": [
    "For each degree in 1 through 8:\n",
    "\n",
    "1.  Build the training design matrix and validation design matrix using the function `get_design_mats` with polynomial terms up through the specified degree.\n",
    "\n",
    "2.  Fit a regression model to the training data.\n",
    "\n",
    "3.  Report the model's score on the test data."
   ]
  },
  {
   "cell_type": "code",
   "execution_count": 106,
   "metadata": {},
   "outputs": [
    {
     "ename": "ValueError",
     "evalue": "matmul: Input operand 1 has a mismatch in its core dimension 0, with gufunc signature (n?,k),(k,m?)->(n?,m?) (size 31 is different from 32)",
     "output_type": "error",
     "traceback": [
      "\u001b[0;31m---------------------------------------------------------------------------\u001b[0m",
      "\u001b[0;31mValueError\u001b[0m                                Traceback (most recent call last)",
      "\u001b[0;32m<ipython-input-106-e09d5444bc5d>\u001b[0m in \u001b[0;36m<module>\u001b[0;34m\u001b[0m\n\u001b[1;32m      8\u001b[0m     \"\"\"\n\u001b[1;32m      9\u001b[0m \u001b[0;34m\u001b[0m\u001b[0m\n\u001b[0;32m---> 10\u001b[0;31m \u001b[0mtrain_r2_score\u001b[0m \u001b[0;34m=\u001b[0m \u001b[0mr2_score\u001b[0m\u001b[0;34m(\u001b[0m\u001b[0my_train\u001b[0m\u001b[0;34m,\u001b[0m \u001b[0mBikeOLSModel\u001b[0m\u001b[0;34m.\u001b[0m\u001b[0mpredict\u001b[0m\u001b[0;34m(\u001b[0m\u001b[0mX_train\u001b[0m\u001b[0;34m)\u001b[0m\u001b[0;34m)\u001b[0m\u001b[0;34m\u001b[0m\u001b[0;34m\u001b[0m\u001b[0m\n\u001b[0m\u001b[1;32m     11\u001b[0m \u001b[0mtest_r2_score\u001b[0m \u001b[0;34m=\u001b[0m \u001b[0mr2_score\u001b[0m\u001b[0;34m(\u001b[0m\u001b[0my_test\u001b[0m\u001b[0;34m,\u001b[0m \u001b[0mBikeOLSModel\u001b[0m\u001b[0;34m.\u001b[0m\u001b[0mpredict\u001b[0m\u001b[0;34m(\u001b[0m\u001b[0mX_test\u001b[0m\u001b[0;34m)\u001b[0m\u001b[0;34m)\u001b[0m\u001b[0;34m\u001b[0m\u001b[0;34m\u001b[0m\u001b[0m\n\u001b[1;32m     12\u001b[0m \u001b[0mprint\u001b[0m\u001b[0;34m(\u001b[0m\u001b[0;34m\"Train Set R^2 Score: {:.4f}\"\u001b[0m\u001b[0;34m.\u001b[0m\u001b[0mformat\u001b[0m\u001b[0;34m(\u001b[0m\u001b[0mtrain_r2_score\u001b[0m\u001b[0;34m)\u001b[0m\u001b[0;34m)\u001b[0m\u001b[0;34m\u001b[0m\u001b[0;34m\u001b[0m\u001b[0m\n",
      "\u001b[0;32m/opt/anaconda3/lib/python3.8/site-packages/sklearn/linear_model/_base.py\u001b[0m in \u001b[0;36mpredict\u001b[0;34m(self, X)\u001b[0m\n\u001b[1;32m    236\u001b[0m             \u001b[0mReturns\u001b[0m \u001b[0mpredicted\u001b[0m \u001b[0mvalues\u001b[0m\u001b[0;34m.\u001b[0m\u001b[0;34m\u001b[0m\u001b[0;34m\u001b[0m\u001b[0m\n\u001b[1;32m    237\u001b[0m         \"\"\"\n\u001b[0;32m--> 238\u001b[0;31m         \u001b[0;32mreturn\u001b[0m \u001b[0mself\u001b[0m\u001b[0;34m.\u001b[0m\u001b[0m_decision_function\u001b[0m\u001b[0;34m(\u001b[0m\u001b[0mX\u001b[0m\u001b[0;34m)\u001b[0m\u001b[0;34m\u001b[0m\u001b[0;34m\u001b[0m\u001b[0m\n\u001b[0m\u001b[1;32m    239\u001b[0m \u001b[0;34m\u001b[0m\u001b[0m\n\u001b[1;32m    240\u001b[0m     \u001b[0m_preprocess_data\u001b[0m \u001b[0;34m=\u001b[0m \u001b[0mstaticmethod\u001b[0m\u001b[0;34m(\u001b[0m\u001b[0m_preprocess_data\u001b[0m\u001b[0;34m)\u001b[0m\u001b[0;34m\u001b[0m\u001b[0;34m\u001b[0m\u001b[0m\n",
      "\u001b[0;32m/opt/anaconda3/lib/python3.8/site-packages/sklearn/linear_model/_base.py\u001b[0m in \u001b[0;36m_decision_function\u001b[0;34m(self, X)\u001b[0m\n\u001b[1;32m    219\u001b[0m \u001b[0;34m\u001b[0m\u001b[0m\n\u001b[1;32m    220\u001b[0m         \u001b[0mX\u001b[0m \u001b[0;34m=\u001b[0m \u001b[0mcheck_array\u001b[0m\u001b[0;34m(\u001b[0m\u001b[0mX\u001b[0m\u001b[0;34m,\u001b[0m \u001b[0maccept_sparse\u001b[0m\u001b[0;34m=\u001b[0m\u001b[0;34m[\u001b[0m\u001b[0;34m'csr'\u001b[0m\u001b[0;34m,\u001b[0m \u001b[0;34m'csc'\u001b[0m\u001b[0;34m,\u001b[0m \u001b[0;34m'coo'\u001b[0m\u001b[0;34m]\u001b[0m\u001b[0;34m)\u001b[0m\u001b[0;34m\u001b[0m\u001b[0;34m\u001b[0m\u001b[0m\n\u001b[0;32m--> 221\u001b[0;31m         return safe_sparse_dot(X, self.coef_.T,\n\u001b[0m\u001b[1;32m    222\u001b[0m                                dense_output=True) + self.intercept_\n\u001b[1;32m    223\u001b[0m \u001b[0;34m\u001b[0m\u001b[0m\n",
      "\u001b[0;32m/opt/anaconda3/lib/python3.8/site-packages/sklearn/utils/validation.py\u001b[0m in \u001b[0;36minner_f\u001b[0;34m(*args, **kwargs)\u001b[0m\n\u001b[1;32m     61\u001b[0m             \u001b[0mextra_args\u001b[0m \u001b[0;34m=\u001b[0m \u001b[0mlen\u001b[0m\u001b[0;34m(\u001b[0m\u001b[0margs\u001b[0m\u001b[0;34m)\u001b[0m \u001b[0;34m-\u001b[0m \u001b[0mlen\u001b[0m\u001b[0;34m(\u001b[0m\u001b[0mall_args\u001b[0m\u001b[0;34m)\u001b[0m\u001b[0;34m\u001b[0m\u001b[0;34m\u001b[0m\u001b[0m\n\u001b[1;32m     62\u001b[0m             \u001b[0;32mif\u001b[0m \u001b[0mextra_args\u001b[0m \u001b[0;34m<=\u001b[0m \u001b[0;36m0\u001b[0m\u001b[0;34m:\u001b[0m\u001b[0;34m\u001b[0m\u001b[0;34m\u001b[0m\u001b[0m\n\u001b[0;32m---> 63\u001b[0;31m                 \u001b[0;32mreturn\u001b[0m \u001b[0mf\u001b[0m\u001b[0;34m(\u001b[0m\u001b[0;34m*\u001b[0m\u001b[0margs\u001b[0m\u001b[0;34m,\u001b[0m \u001b[0;34m**\u001b[0m\u001b[0mkwargs\u001b[0m\u001b[0;34m)\u001b[0m\u001b[0;34m\u001b[0m\u001b[0;34m\u001b[0m\u001b[0m\n\u001b[0m\u001b[1;32m     64\u001b[0m \u001b[0;34m\u001b[0m\u001b[0m\n\u001b[1;32m     65\u001b[0m             \u001b[0;31m# extra_args > 0\u001b[0m\u001b[0;34m\u001b[0m\u001b[0;34m\u001b[0m\u001b[0;34m\u001b[0m\u001b[0m\n",
      "\u001b[0;32m/opt/anaconda3/lib/python3.8/site-packages/sklearn/utils/extmath.py\u001b[0m in \u001b[0;36msafe_sparse_dot\u001b[0;34m(a, b, dense_output)\u001b[0m\n\u001b[1;32m    150\u001b[0m             \u001b[0mret\u001b[0m \u001b[0;34m=\u001b[0m \u001b[0mnp\u001b[0m\u001b[0;34m.\u001b[0m\u001b[0mdot\u001b[0m\u001b[0;34m(\u001b[0m\u001b[0ma\u001b[0m\u001b[0;34m,\u001b[0m \u001b[0mb\u001b[0m\u001b[0;34m)\u001b[0m\u001b[0;34m\u001b[0m\u001b[0;34m\u001b[0m\u001b[0m\n\u001b[1;32m    151\u001b[0m     \u001b[0;32melse\u001b[0m\u001b[0;34m:\u001b[0m\u001b[0;34m\u001b[0m\u001b[0;34m\u001b[0m\u001b[0m\n\u001b[0;32m--> 152\u001b[0;31m         \u001b[0mret\u001b[0m \u001b[0;34m=\u001b[0m \u001b[0ma\u001b[0m \u001b[0;34m@\u001b[0m \u001b[0mb\u001b[0m\u001b[0;34m\u001b[0m\u001b[0;34m\u001b[0m\u001b[0m\n\u001b[0m\u001b[1;32m    153\u001b[0m \u001b[0;34m\u001b[0m\u001b[0m\n\u001b[1;32m    154\u001b[0m     if (sparse.issparse(a) and sparse.issparse(b)\n",
      "\u001b[0;31mValueError\u001b[0m: matmul: Input operand 1 has a mismatch in its core dimension 0, with gufunc signature (n?,k),(k,m?)->(n?,m?) (size 31 is different from 32)"
     ]
    }
   ],
   "source": [
    "\"\"\"\n",
    "    :param train_df: The training data\n",
    "    :param val_df: Your test/validation data\n",
    "    :param columns_forpoly: List containing the column name for which we want to create \n",
    "                            polynomial terms\n",
    "    :param target_col: The response variable column\n",
    "    :param bad_columns: The columns you want to drop\n",
    "    \"\"\"\n",
    "\n",
    "train_r2_score = r2_score(y_train, BikeOLSModel.predict(X_train))\n",
    "test_r2_score = r2_score(y_test, BikeOLSModel.predict(X_test))\n",
    "print(\"Train Set R^2 Score: {:.4f}\".format(train_r2_score))\n",
    "print(\"Test Set R^2 Score: {:.4f}\".format(test_r2_score))\n",
    "\n",
    "BikeOLS_r2scores = {}\n",
    "BikeOLS_r2scores['training'] = train_r2_score\n",
    "BikeOLS_r2scores['test'] = test_r2_score    "
   ]
  },
  {
   "cell_type": "markdown",
   "metadata": {
    "button": false,
    "new_sheet": false,
    "run_control": {
     "read_only": false
    }
   },
   "source": [
    "<div class='exercise'> <b> Question 4.7 </b> </div>"
   ]
  },
  {
   "cell_type": "markdown",
   "metadata": {
    "button": false,
    "new_sheet": false,
    "run_control": {
     "read_only": false
    }
   },
   "source": [
    "Discuss patterns you see in the results from 4.5. Which model would you select, and why?"
   ]
  },
  {
   "cell_type": "markdown",
   "metadata": {},
   "source": [
    "*Your answer here*"
   ]
  },
  {
   "cell_type": "markdown",
   "metadata": {},
   "source": [
    "<div class='exercise'> <b> Question 4.8 </b> </div>"
   ]
  },
  {
   "cell_type": "markdown",
   "metadata": {},
   "source": [
    "Reflect back on the `get_design_mats` function you built. In what way was writing this function useful in your analysis? What issues might you have encountered if you copy/pasted the model-building code instead of tying it together in a function? Does a `get_design_mat` function seem wise in general, or are there better options?"
   ]
  },
  {
   "cell_type": "markdown",
   "metadata": {},
   "source": [
    "*Your answer here*"
   ]
  },
  {
   "cell_type": "markdown",
   "metadata": {},
   "source": [
    "---\n",
    "\n",
    "<div class=\"theme\">  Question 5 - Regularized Models </div>"
   ]
  },
  {
   "cell_type": "markdown",
   "metadata": {
    "button": false,
    "new_sheet": false,
    "run_control": {
     "read_only": false
    }
   },
   "source": [
    "<div class='exercise'> <b> Question 5.1 </b> </div>"
   ]
  },
  {
   "cell_type": "markdown",
   "metadata": {
    "button": false,
    "new_sheet": false,
    "run_control": {
     "read_only": false
    }
   },
   "source": [
    "Let's try regularizing our models via ridge regression. Split the training set, `BSS_train`, into an 80-20 train-validation split.  Build a table showing the validation set $R^2$ of polynomial models with degree from 1-8, using your `get_design_mats` function, regularized at the levels $\\lambda = (.01, .05, .1,.5, 1, 5, 10, 50, 100)$. Do not perform cross validation at this point, simply report performance on the single validation set. "
   ]
  },
  {
   "cell_type": "code",
   "execution_count": 111,
   "metadata": {},
   "outputs": [],
   "source": [
    "# Your code here\n",
    "# your code here\n",
    "from sklearn.model_selection import KFold\n",
    "lambdas = [.01, .05, 1, 5, 10, 50, 100]\n",
    "fold = KFold(5, shuffle=True)"
   ]
  },
  {
   "cell_type": "code",
   "execution_count": 113,
   "metadata": {},
   "outputs": [],
   "source": [
    "# your code here\n",
    "# RidgeCV\n",
    "BikeRRModel = RidgeCV(cv=5, alphas=lambdas, fit_intercept=True)\n",
    "\n",
    "BikeRRModel.fit(X_train, y_train) \n",
    "\n",
    "BikeRR_shrinkage_parameter = BikeRRModel.alpha_\n",
    "\n",
    "Ridge_coefficients = BikeRRModel.coef_.ravel()"
   ]
  },
  {
   "cell_type": "markdown",
   "metadata": {
    "button": false,
    "new_sheet": false,
    "run_control": {
     "read_only": false
    }
   },
   "source": [
    "<div class='exercise'> <b> Question 5.2 </b> </div>"
   ]
  },
  {
   "cell_type": "markdown",
   "metadata": {
    "button": false,
    "new_sheet": false,
    "run_control": {
     "read_only": false
    }
   },
   "source": [
    "Find the best-scoring degree and regularization combination."
   ]
  },
  {
   "cell_type": "code",
   "execution_count": null,
   "metadata": {},
   "outputs": [],
   "source": [
    "# Your code here"
   ]
  },
  {
   "cell_type": "markdown",
   "metadata": {
    "button": false,
    "new_sheet": false,
    "run_control": {
     "read_only": false
    }
   },
   "source": [
    "<div class='exercise'> <b> Question 5.3 </b> </div>"
   ]
  },
  {
   "cell_type": "markdown",
   "metadata": {
    "button": false,
    "new_sheet": false,
    "run_control": {
     "read_only": false
    }
   },
   "source": [
    "It's time to see how well our selected model will do on future data. Use the earlier created test dataset, do any required formatting, and report the best model's $R^2$ score. How does it compare to the validation set score that made us choose this model? Does the test set simply have observations that are more difficult or easier to predict?"
   ]
  },
  {
   "cell_type": "code",
   "execution_count": null,
   "metadata": {},
   "outputs": [],
   "source": [
    "# Your code here"
   ]
  },
  {
   "cell_type": "markdown",
   "metadata": {},
   "source": [
    "*Your answer here*"
   ]
  },
  {
   "cell_type": "markdown",
   "metadata": {
    "button": false,
    "new_sheet": false,
    "run_control": {
     "read_only": false
    }
   },
   "source": [
    "<div class='exercise'> <b> Question 5.4 </b> </div>"
   ]
  },
  {
   "cell_type": "markdown",
   "metadata": {
    "button": false,
    "new_sheet": false,
    "run_control": {
     "read_only": false
    }
   },
   "source": [
    "Build a dataset with polynomial degree 1 and fit an OLS model, a Ridge model, and a Lasso model. Use `RidgeCV` and `LassoCV` to select the best regularization level from among `(.1,.5,1,5,10,50,100)`. \n",
    "\n",
    "Note: On the lasso model, you may need to increase `max_iter` (start with 100,000) for the optimization to converge."
   ]
  },
  {
   "cell_type": "code",
   "execution_count": 121,
   "metadata": {},
   "outputs": [],
   "source": [
    "# Your code here\n",
    "lambdas = [.001, .005, 1, 5, 10, 50, 100, 500, 1000]\n",
    "fold = KFold(5, shuffle=True)"
   ]
  },
  {
   "cell_type": "markdown",
   "metadata": {
    "button": false,
    "new_sheet": false,
    "run_control": {
     "read_only": false
    }
   },
   "source": [
    "<div class='exercise'> <b> Question 5.5 </b> </div>"
   ]
  },
  {
   "cell_type": "markdown",
   "metadata": {
    "button": false,
    "new_sheet": false,
    "run_control": {
     "read_only": false
    }
   },
   "source": [
    "Plot histograms of the coefficients found by each of OLS, ridge, and lasso. What trends do you see in the magnitude of the coefficients?"
   ]
  },
  {
   "cell_type": "code",
   "execution_count": 122,
   "metadata": {},
   "outputs": [],
   "source": [
    "# Your code here\n",
    "si= np.argsort(np.abs(BikeOLSModel.coef_[0]))\n",
    "\n",
    "n_coeffs = len(feature_names)\n",
    "\n",
    "plt.figure(figsize=(14,8))\n",
    "plt.bar(np.arange(n_coeffs)-0.2, np.abs(Ridge_coefficients3)[si], alpha=0.4, label='Ridge')\n",
    "plt.bar(np.arange(n_coeffs)+0.2, np.abs(Lasso_coefficients3)[si], alpha=0.2, label='LASSO')\n",
    "plt.bar(np.arange(n_coeffs), -np.abs(OLS_coefficients)[si], color='purple', hatch='/', label='OLS')\n",
    "plt.xticks(range(n_coeffs), feature_names[si], rotation=60)\n",
    "plt.xlim(-1,n_coeffs)\n",
    "plt.ylim(-100,100)\n",
    "plt.legend(fontsize=16)\n",
    "plt.title(\"Model coefficients: 5-fold CV 'ideal' parameters\")\n",
    "plt.xlabel(\"Features\")\n",
    "plt.ylabel(\"+/- Coefficient Magnitude\")\n",
    "plt.show()"
   ]
  },
  {
   "cell_type": "markdown",
   "metadata": {},
   "source": [
    "*Your answer here*"
   ]
  },
  {
   "cell_type": "markdown",
   "metadata": {
    "button": false,
    "new_sheet": false,
    "run_control": {
     "read_only": false
    }
   },
   "source": [
    "<div class='exercise'> <b> Question 5.6 </b> </div>"
   ]
  },
  {
   "cell_type": "markdown",
   "metadata": {
    "button": false,
    "new_sheet": false,
    "run_control": {
     "read_only": false
    }
   },
   "source": [
    "The plots above show the overall distribution of coefficient values in each model, but do not show how each model treats individual coefficients. Build a plot which cleanly presents, for each feature in the data, 1) The coefficient assigned by OLS, 2) the coefficient assigned by ridge, and 3) the coefficient assigned by lasso.\n",
    "\n",
    "**Hint: Bar plots are a possible choice, but you are not required to use them**\n",
    "\n",
    "**Hint: use `xticks` to label coefficients with their feature names**"
   ]
  },
  {
   "cell_type": "code",
   "execution_count": null,
   "metadata": {},
   "outputs": [],
   "source": [
    "# Your code here"
   ]
  },
  {
   "cell_type": "markdown",
   "metadata": {
    "button": false,
    "new_sheet": false,
    "run_control": {
     "read_only": false
    }
   },
   "source": [
    "<div class='exercise'> <b> Question 5.7: </b> What trends do you see in the plot above? </div>"
   ]
  },
  {
   "cell_type": "markdown",
   "metadata": {
    "button": false,
    "new_sheet": false,
    "run_control": {
     "read_only": false
    }
   },
   "source": [
    "*Your answer here*"
   ]
  },
  {
   "cell_type": "markdown",
   "metadata": {},
   "source": [
    "<div class=\"theme\">  Question 6 - Reflection </div>"
   ]
  },
  {
   "cell_type": "markdown",
   "metadata": {
    "button": false,
    "new_sheet": false,
    "run_control": {
     "read_only": false
    }
   },
   "source": [
    "These problems are open-ended, and you are not expected to write more than 2-3 sentences. We are interested in seeing that you have thought about these issues; you will be graded on how well you justify your conclusions here, not on what you conclude."
   ]
  },
  {
   "cell_type": "markdown",
   "metadata": {
    "button": false,
    "new_sheet": false,
    "run_control": {
     "read_only": false
    }
   },
   "source": [
    "<div class='exercise'> <b> Question 6.1 </b></div>"
   ]
  },
  {
   "cell_type": "markdown",
   "metadata": {
    "button": false,
    "new_sheet": false,
    "run_control": {
     "read_only": false
    }
   },
   "source": [
    "What are the costs and benefits of applying ridge/lasso regularization to an overfit OLS model, versus setting a specific degree of polynomial or forward selecting polynomial features for the model?"
   ]
  },
  {
   "cell_type": "markdown",
   "metadata": {},
   "source": [
    "*Your answer here*"
   ]
  },
  {
   "cell_type": "markdown",
   "metadata": {
    "button": false,
    "new_sheet": false,
    "run_control": {
     "read_only": false
    }
   },
   "source": [
    "<div class='exercise'> <b> Question 6.2 </b></div>"
   ]
  },
  {
   "cell_type": "markdown",
   "metadata": {
    "button": false,
    "new_sheet": false,
    "run_control": {
     "read_only": false
    }
   },
   "source": [
    "This pset posed a purely predictive goal: forecast ridership as accurately as possible. How important is interpretability in this context? Considering, e.g., your lasso and ridge models from Question 5, how would you react if the models predicted well, but the coefficient values didn't make sense once interpreted?"
   ]
  },
  {
   "cell_type": "markdown",
   "metadata": {},
   "source": [
    "*Your answer here*"
   ]
  },
  {
   "cell_type": "markdown",
   "metadata": {
    "button": false,
    "new_sheet": false,
    "run_control": {
     "read_only": false
    }
   },
   "source": [
    "<div class='exercise'> <b> Question 6.3 </b></div>"
   ]
  },
  {
   "cell_type": "markdown",
   "metadata": {
    "button": false,
    "new_sheet": false,
    "run_control": {
     "read_only": false
    }
   },
   "source": [
    "Reflect back on our original goal of helping BikeShare predict what demand will be like in the week ahead, and thus how many bikes they can bring in for maintenance. In your view, did we accomplish this goal? If yes, which model would you put into production and why? If not, which model came closest, what other analyses might you conduct, and how likely do you think they are to work?"
   ]
  },
  {
   "cell_type": "markdown",
   "metadata": {},
   "source": [
    "*Your answer here*"
   ]
  },
  {
   "cell_type": "code",
   "execution_count": null,
   "metadata": {},
   "outputs": [],
   "source": []
  }
 ],
 "metadata": {
  "kernelspec": {
   "display_name": "Python 3",
   "language": "python",
   "name": "python3"
  },
  "language_info": {
   "codemirror_mode": {
    "name": "ipython",
    "version": 3
   },
   "file_extension": ".py",
   "mimetype": "text/x-python",
   "name": "python",
   "nbconvert_exporter": "python",
   "pygments_lexer": "ipython3",
   "version": "3.8.8"
  }
 },
 "nbformat": 4,
 "nbformat_minor": 4
}
